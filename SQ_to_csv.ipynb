{
 "cells": [
  {
   "cell_type": "code",
   "execution_count": 15,
   "id": "5dcc8dad-c0d0-4a46-94a4-a2231bb64a4c",
   "metadata": {
    "tags": []
   },
   "outputs": [],
   "source": [
    "from Bio import Entrez\n",
    "import csv\n",
    "import os\n",
    "import xml.etree.ElementTree as ET\n",
    "import copy"
   ]
  },
  {
   "cell_type": "code",
   "execution_count": 16,
   "id": "3b58a965-dff2-4487-8be5-c4e12d0166ec",
   "metadata": {
    "tags": []
   },
   "outputs": [],
   "source": [
    "# Function that searches for papers using our SQs and returns a list of PubMed IDs\n",
    "def search_pubmed_for_ids(query, max_results=15):\n",
    "    Entrez.email = \"sabrina.klotz@tum.de\"  # Set email address\n",
    "\n",
    "    handle = Entrez.esearch(db=\"pubmed\", term=query, retmax=max_results)\n",
    "    record = Entrez.read(handle)\n",
    "    handle.close()\n",
    "\n",
    "    return record[\"IdList\"]"
   ]
  },
  {
   "cell_type": "code",
   "execution_count": 33,
   "id": "9857566d-18db-4989-b7b9-3b1ec76bfc98",
   "metadata": {
    "tags": []
   },
   "outputs": [],
   "source": [
    "def search_pmc_for_ids(query, max_results=15):\n",
    "    Entrez.email = \"sabrina.klotz@tum.de\"\n",
    "    \n",
    "    handle = Entrez.esearch(db=\"pmc\", term=query, retmax=max_results)\n",
    "    record = Entrez.read(handle)\n",
    "    handle.close()\n",
    "\n",
    "    # Return the list of PMCIDs\n",
    "    return record[\"IdList\"]"
   ]
  },
  {
   "cell_type": "code",
   "execution_count": 25,
   "id": "b1e6fbde-7308-47b7-82cc-8f6e2001251a",
   "metadata": {
    "tags": []
   },
   "outputs": [],
   "source": [
    "def read_keywords_from_csv(csv_file):\n",
    "    with open(csv_file, 'r') as file:\n",
    "        reader = csv.reader(file)\n",
    "\n",
    "        keywords_dict = {}\n",
    "        \n",
    "        current_pub_title = None\n",
    "        current_keywords = []\n",
    "        current_sq_tp = []\n",
    "        current_sq_fp = []\n",
    "        current_sq_r = []\n",
    "\n",
    "        for row in reader:\n",
    "            \n",
    "            # Remove trailing commas from each element in the row\n",
    "            row = [item.strip(', ') for item in row]\n",
    "            \n",
    "            if row and not row[0].isdigit():  # Skip numeric rows\n",
    "                if row[0] == \"Pub Title\":\n",
    "                    if current_pub_title:\n",
    "                        # create for every title/DOI keys\n",
    "                        keywords_dict[current_pub_title] = {\n",
    "                            \"Pub Title\": current_pub_title,\n",
    "                            \"Keywords\": current_keywords,\n",
    "                            \"SQ_TP\": current_sq_tp,\n",
    "                            \"SQ_FP\": current_sq_fp,\n",
    "                            \"SQ_R\": current_sq_r\n",
    "                        }\n",
    "                    current_pub_title = row[1]\n",
    "                    current_keywords = []\n",
    "                    current_sq_tp = []\n",
    "                    current_sq_fp = []\n",
    "                    current_sq_r = []\n",
    "                    # add values to list of the different keys and check for empty entries\n",
    "                elif row[0] == \"Keywords\":\n",
    "                    current_keywords.extend(item for item in row[1:] if item)\n",
    "                elif row[0] == \"SQ_TP\":\n",
    "                    current_sq_tp.extend(item for item in row[1:] if item)\n",
    "                elif row[0] == \"SQ_FP\":\n",
    "                    current_sq_fp.extend(item for item in row[1:] if item)\n",
    "                elif row[0] == \"SQ_R\":\n",
    "                    current_sq_r.extend(item for item in row[1:] if item)\n",
    "\n",
    "        # Add the last entry\n",
    "        if current_pub_title:\n",
    "            keywords_dict[current_pub_title] = {\n",
    "                \"Pub Title\": current_pub_title,\n",
    "                \"Keywords\": current_keywords,\n",
    "                \"SQ_TP\": current_sq_tp,\n",
    "                \"SQ_FP\": current_sq_fp,\n",
    "                \"SQ_R\": current_sq_r\n",
    "            }\n",
    "\n",
    "    return keywords_dict"
   ]
  },
  {
   "cell_type": "code",
   "execution_count": 26,
   "id": "deed5941-3e2a-4314-af51-bbc0dbfa2893",
   "metadata": {
    "tags": []
   },
   "outputs": [],
   "source": [
    "# Function that takes keyword_dict/input_dict and returns dict with list of PubMed IDs based on SQs\n",
    "def dict_to_pubmed_id(input_dict):\n",
    "    # Initialize a new dictionary to store the results\n",
    "    result_dict = {}\n",
    "\n",
    "    # Iterate over each publication entry in the input dictionary\n",
    "    for pub_title, pub_data in input_dict.items():\n",
    "        # Create a copy of the publication data\n",
    "        pub_result = pub_data.copy()\n",
    "\n",
    "        # Initialize empty lists for PubMed IDs for SQ_TP, SQ_FP, and SQ_R\n",
    "        pub_result['PubMed_IDs_TP'] = []\n",
    "        pub_result['PubMed_IDs_FP'] = []\n",
    "        pub_result['PubMed_IDs_R'] = []\n",
    "\n",
    "        # Extract elements from SQ_TP, SQ_FP, and SQ_R lists and search PubMed for IDs\n",
    "        for sq_tp_element in pub_data['SQ_TP']:\n",
    "            pub_result['PubMed_IDs_TP'].extend(search_pubmed_for_ids(sq_tp_element))\n",
    "\n",
    "        for sq_fp_element in pub_data['SQ_FP']:\n",
    "            pub_result['PubMed_IDs_FP'].extend(search_pubmed_for_ids(sq_fp_element))\n",
    "\n",
    "        for sq_r_element in pub_data['SQ_R']:\n",
    "            pub_result['PubMed_IDs_R'].extend(search_pubmed_for_ids(sq_r_element))\n",
    "\n",
    "        # Add the modified publication data to the result dictionary\n",
    "        result_dict[pub_title] = pub_result\n",
    "\n",
    "    return result_dict"
   ]
  },
  {
   "cell_type": "code",
   "execution_count": 27,
   "id": "b23e300f-42f8-4dfc-ae3e-f115df77d48a",
   "metadata": {
    "tags": []
   },
   "outputs": [],
   "source": [
    "# Function that takes keyword_dict/input_dict and returns dict with list of PMC IDs based on SQs\n",
    "def dict_to_pmc_id(input_dict):\n",
    "    # Initialize a new dictionary to store the results\n",
    "    result_dict = {}\n",
    "\n",
    "    # Iterate over each publication entry in the input dictionary\n",
    "    for pub_title, pub_data in input_dict.items():\n",
    "        # Create a copy of the publication data\n",
    "        pub_result = pub_data.copy()\n",
    "\n",
    "        # Initialize empty lists for PubMed IDs for SQ_TP, SQ_FP, and SQ_R\n",
    "        pub_result['PMC_IDs_TP'] = []\n",
    "        pub_result['PMC_IDs_FP'] = []\n",
    "        pub_result['PMC_IDs_R'] = []\n",
    "\n",
    "        # Extract elements from SQ_TP, SQ_FP, and SQ_R lists and search PubMed for IDs\n",
    "        for sq_tp_element in pub_data['SQ_TP']:\n",
    "            pub_result['PMC_IDs_TP'].extend(search_pmc_for_ids(sq_tp_element))\n",
    "\n",
    "        for sq_fp_element in pub_data['SQ_FP']:\n",
    "            pub_result['PMC_IDs_FP'].extend(search_pmc_for_ids(sq_fp_element))\n",
    "\n",
    "        for sq_r_element in pub_data['SQ_R']:\n",
    "            pub_result['PMC_IDs_R'].extend(search_pmc_for_ids(sq_r_element))\n",
    "\n",
    "        # Add the modified publication data to the result dictionary\n",
    "        result_dict[pub_title] = pub_result\n",
    "\n",
    "    return result_dict"
   ]
  },
  {
   "cell_type": "code",
   "execution_count": 28,
   "id": "b3daf21e-3940-444b-92ba-549f461d6ae9",
   "metadata": {
    "tags": []
   },
   "outputs": [],
   "source": [
    "def dict_to_pubmed_id_reduced(input_dict):\n",
    "    # Initialize a new dictionary to store the results\n",
    "    result_dict = {}\n",
    "\n",
    "    # Iterate over each publication entry in the input dictionary\n",
    "    for pub_title, pub_data in input_dict.items():\n",
    "        # Initialize a dictionary to store PubMed IDs and Pub Title\n",
    "        pub_result = {'Pub Title': pub_title}\n",
    "\n",
    "        # Initialize empty lists for PubMed IDs for SQ_TP, SQ_FP, and SQ_R\n",
    "        pub_result['PubMed_IDs_TP'] = []\n",
    "        pub_result['PubMed_IDs_FP'] = []\n",
    "        pub_result['PubMed_IDs_R'] = []\n",
    "\n",
    "        # Extract elements from SQ_TP, SQ_FP, and SQ_R lists and search PubMed for IDs\n",
    "        for sq_tp_element in pub_data['SQ_TP']:\n",
    "            pub_result['PubMed_IDs_TP'].extend(search_pubmed_for_ids(sq_tp_element))\n",
    "\n",
    "        for sq_fp_element in pub_data['SQ_FP']:\n",
    "            pub_result['PubMed_IDs_FP'].extend(search_pubmed_for_ids(sq_fp_element))\n",
    "\n",
    "        for sq_r_element in pub_data['SQ_R']:\n",
    "            pub_result['PubMed_IDs_R'].extend(search_pubmed_for_ids(sq_r_element))\n",
    "\n",
    "        # Add the modified publication data to the result dictionary\n",
    "        result_dict[pub_title] = pub_result\n",
    "\n",
    "    return result_dict"
   ]
  },
  {
   "cell_type": "code",
   "execution_count": 29,
   "id": "118c6b08-c9ac-451b-bb07-8298d166e10e",
   "metadata": {
    "tags": []
   },
   "outputs": [],
   "source": [
    "def dict_to_pmc_id_reduced(input_dict):\n",
    "    # Initialize a new dictionary to store the results\n",
    "    result_dict = {}\n",
    "\n",
    "    # Iterate over each publication entry in the input dictionary\n",
    "    for pub_title, pub_data in input_dict.items():\n",
    "        # Initialize a dictionary to store PubMed IDs and Pub Title\n",
    "        pub_result = {'Pub Title': pub_title}\n",
    "\n",
    "        # Initialize empty lists for PubMed IDs for SQ_TP, SQ_FP, and SQ_R\n",
    "        pub_result['PMC_IDs_TP'] = []\n",
    "        pub_result['PMC_IDs_FP'] = []\n",
    "        pub_result['PMC_IDs_R'] = []\n",
    "\n",
    "        # Extract elements from SQ_TP, SQ_FP, and SQ_R lists and search PubMed for IDs\n",
    "        for sq_tp_element in pub_data['SQ_TP']:\n",
    "            pub_result['PMC_IDs_TP'].extend(search_pmc_for_ids(sq_tp_element))\n",
    "\n",
    "        for sq_fp_element in pub_data['SQ_FP']:\n",
    "            pub_result['PMC_IDs_FP'].extend(search_pmc_for_ids(sq_fp_element))\n",
    "\n",
    "        for sq_r_element in pub_data['SQ_R']:\n",
    "            pub_result['PMC_IDs_R'].extend(search_pumc_for_ids(sq_r_element))\n",
    "\n",
    "        # Add the modified publication data to the result dictionary\n",
    "        result_dict[pub_title] = pub_result\n",
    "\n",
    "    return result_dict"
   ]
  },
  {
   "cell_type": "code",
   "execution_count": 39,
   "id": "0d7911e0-47a7-4ddc-80e4-d036a24f9c55",
   "metadata": {
    "tags": []
   },
   "outputs": [],
   "source": [
    "def save_pubmed_dict_to_csv(input_dict, output_csv):\n",
    "    with open(output_csv, 'w', newline='', encoding='utf-8') as csvfile:\n",
    "        fieldnames = ['Pub Title', 'Keywords', 'SQ_TP', 'SQ_FP', 'SQ_R', 'PubMed_IDs_TP', 'PubMed_IDs_FP', 'PubMed_IDs_R']\n",
    "        writer = csv.DictWriter(csvfile, fieldnames=fieldnames)\n",
    "        writer.writeheader()\n",
    "\n",
    "        for pub_title, data in input_dict.items():\n",
    "            writer.writerow({\n",
    "                'Pub Title': data['Pub Title'],\n",
    "                'Keywords': ', '.join(data['Keywords']),\n",
    "                'SQ_TP': ', '.join(data['SQ_TP']),\n",
    "                'SQ_FP': ', '.join(data['SQ_FP']),\n",
    "                'SQ_R': ', '.join(data['SQ_R']),\n",
    "                'PubMed_IDs_TP': ', '.join(data['PubMed_IDs_TP']),\n",
    "                'PubMed_IDs_FP': ', '.join(data['PubMed_IDs_FP']),\n",
    "                'PubMed_IDs_R': ', '.join(data['PubMed_IDs_R'])\n",
    "            })"
   ]
  },
  {
   "cell_type": "code",
   "execution_count": 40,
   "id": "eaa4fcc0-6056-4073-b74a-d25543d46ad8",
   "metadata": {
    "tags": []
   },
   "outputs": [],
   "source": [
    "def save_pmc_dict_to_csv(input_dict, output_csv):\n",
    "    with open(output_csv, 'w', newline='', encoding='utf-8') as csvfile:\n",
    "        fieldnames = ['Pub Title', 'Keywords', 'SQ_TP', 'SQ_FP', 'SQ_R', 'PMC_IDs_TP', 'PMC_IDs_FP', 'PMC_IDs_R']\n",
    "        writer = csv.DictWriter(csvfile, fieldnames=fieldnames)\n",
    "        writer.writeheader()\n",
    "\n",
    "        for pub_title, data in input_dict.items():\n",
    "            writer.writerow({\n",
    "                'Pub Title': data['Pub Title'],\n",
    "                'Keywords': ', '.join(data['Keywords']),\n",
    "                'SQ_TP': ', '.join(data['SQ_TP']),\n",
    "                'SQ_FP': ', '.join(data['SQ_FP']),\n",
    "                'SQ_R': ', '.join(data['SQ_R']),\n",
    "                'PMC_IDs_TP': ', '.join(data['PMC_IDs_TP']),\n",
    "                'PMC_IDs_FP': ', '.join(data['PMC_IDs_FP']),\n",
    "                'PMC_IDs_R': ', '.join(data['PMC_IDs_R'])\n",
    "            })"
   ]
  },
  {
   "cell_type": "code",
   "execution_count": 37,
   "id": "833f0f9a-312b-4e97-8513-9c5b4bbb3b94",
   "metadata": {
    "tags": []
   },
   "outputs": [],
   "source": [
    "# Example usage:\n",
    "\n",
    "# Read in keywords from the directory\n",
    "csv_input_file = 'Sabrina.csv'\n",
    "keywords_dict = read_keywords_from_csv(csv_input_file)\n",
    "\n",
    "# Fetch PubMed IDs for SQs\n",
    "pubmed_ids_dict = dict_to_pubmed_id(keywords_dict)\n",
    "\n",
    "# Fetch PMC IDs for SQs\n",
    "pmc_ids_dict = dict_to_pmc_id(keywords_dict)\n",
    "\n",
    "# save PMIDs in one csv file\n",
    "output_csv = \"PMID_Sabrina.csv\"\n",
    "save_pubmed_dict_to_csv(pubmed_ids_dict, output_csv)\n",
    "\n",
    "# save PMCIDs in one csv file\n",
    "output_csv = \"PMC_Sabrina.csv\"\n",
    "save_pmc_dict_to_csv(pmc_ids_dict, output_csv)"
   ]
  }
 ],
 "metadata": {
  "kernelspec": {
   "display_name": "Python 3 (ipykernel)",
   "language": "python",
   "name": "python3"
  },
  "language_info": {
   "codemirror_mode": {
    "name": "ipython",
    "version": 3
   },
   "file_extension": ".py",
   "mimetype": "text/x-python",
   "name": "python",
   "nbconvert_exporter": "python",
   "pygments_lexer": "ipython3",
   "version": "3.11.3"
  }
 },
 "nbformat": 4,
 "nbformat_minor": 5
}
