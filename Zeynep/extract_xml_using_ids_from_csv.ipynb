{
 "cells": [
  {
   "attachments": {},
   "cell_type": "markdown",
   "metadata": {},
   "source": [
    "\n",
    "## Reading CSV with all PMCID's and creating a python list of all PMCID's"
   ]
  },
  {
   "cell_type": "code",
   "execution_count": null,
   "metadata": {},
   "outputs": [],
   "source": [
    "import pandas as pd"
   ]
  },
  {
   "cell_type": "code",
   "execution_count": null,
   "metadata": {},
   "outputs": [],
   "source": [
    "# Change the path to the CSV file with the path on the server\n",
    "all_pmcid = pd.read_csv(\"/Users/zeynepkorkmaz/Desktop/Master 1/Systems Biomedicine/NLP in biomedical research/all_pmcid.csv\")\n",
    "\n",
    "# Concatenate all lists under the same column into one list\n",
    "PMC_IDs_TP_list = all_pmcid[\"PMC_IDs_TP\"].str.split(\", \").sum()\n",
    "PMC_IDs_FP_list = all_pmcid[\"PMC_IDs_FP\"].str.split(\", \").sum()\n",
    "PMC_IDs_R_list = all_pmcid[\"PMC_IDs_R\"].str.split(\", \").sum()\n",
    "\n",
    "#print(PMC_IDs_R_list)"
   ]
  },
  {
   "attachments": {},
   "cell_type": "markdown",
   "metadata": {},
   "source": [
    "#### The lists above only contain numbers. Here we add the prefix \"PMC\" at the beginning of every element."
   ]
  },
  {
   "cell_type": "code",
   "execution_count": null,
   "metadata": {},
   "outputs": [],
   "source": [
    "prefixed_PMC_ID_TP = [\"PMC\" + string for string in PMC_IDs_TP_list]\n",
    "prefixed_PMC_ID_FP = [\"PMC\" + string for string in PMC_IDs_FP_list]\n",
    "prefixed_PMC_ID_R = [\"PMC\" + string for string in PMC_IDs_R_list]"
   ]
  },
  {
   "cell_type": "code",
   "execution_count": null,
   "metadata": {},
   "outputs": [],
   "source": [
    "#print(prefixed_PMC_ID_FP)"
   ]
  },
  {
   "attachments": {},
   "cell_type": "markdown",
   "metadata": {},
   "source": [
    "## Option 1: This section uses PMCID's and PMID's to search for XML files"
   ]
  },
  {
   "attachments": {},
   "cell_type": "markdown",
   "metadata": {},
   "source": [
    "### Keep in mind that in order to use this option you need lists of PMID's on top of PMCID's and the order of the id's should match"
   ]
  },
  {
   "cell_type": "code",
   "execution_count": null,
   "metadata": {},
   "outputs": [],
   "source": [
    "from lxml import etree as ET\n",
    "import os\n",
    "import shutil"
   ]
  },
  {
   "cell_type": "code",
   "execution_count": null,
   "metadata": {},
   "outputs": [],
   "source": [
    "\n",
    "def extract_xml_from_pmcid_and_pmid(input_list_pmids, input_list_pmcids, input_dir, output_dir):\n",
    "    previously_found_pmids = []\n",
    "    previously_found_pmcids = []\n",
    "\n",
    "    # Create the output directory if it does not exist\n",
    "    if not os.path.exists(output_dir):\n",
    "        os.makedirs(output_dir)\n",
    "\n",
    "    for subdir, _, files in os.walk(input_dir):\n",
    "        for file in files:\n",
    "            if file.endswith('.xml'):\n",
    "                xml_file_path = os.path.join(subdir, file)\n",
    "                try:\n",
    "                    parser = ET.XMLParser(recover=True, no_network=False)\n",
    "                    tree = ET.parse(xml_file_path, parser)\n",
    "                    root = tree.getroot()\n",
    "\n",
    "                    for element in root.xpath('.//article-id'):\n",
    "                        pub_id_type = element.get('pub-id-type')\n",
    "                        text = element.text\n",
    "\n",
    "                        if ((pub_id_type == 'pmid' and text in input_list_pmids and text not in previously_found_pmids) or \n",
    "                            (pub_id_type == 'pmc' and text in input_list_pmcids and text not in previously_found_pmcids)):\n",
    "                            \n",
    "                            # Save the XML file in the output directory\n",
    "                            output_file_path = os.path.join(output_dir, file)\n",
    "                            tree.write(output_file_path, encoding='utf-8', xml_declaration=True, pretty_print=True)\n",
    "\n",
    "                            # Keep track of added pmids and pmcids\n",
    "                            if pub_id_type == 'pmid':\n",
    "                                previously_found_pmids.append(text)\n",
    "                            if pub_id_type == 'pmc':\n",
    "                                previously_found_pmcids.append(text)\n",
    "                            \n",
    "                            break  # Break the loop once a valid 'article-id' is found\n",
    "                except ET.ParseError as e:\n",
    "                    print(f\"Skipping file {xml_file_path} due to parse error: {e}\")\n"
   ]
  },
  {
   "attachments": {},
   "cell_type": "markdown",
   "metadata": {},
   "source": [
    "## Option 2: This section only uses PMCID's and checks the file names of XML files in the inpur directory."
   ]
  },
  {
   "cell_type": "code",
   "execution_count": null,
   "metadata": {},
   "outputs": [],
   "source": [
    "import os\n",
    "import shutil\n",
    "\n",
    "def extract_xml_from_PMCID(PMC_input_list, input_all_xml, output_dir_for_set):\n",
    "    # Create the output folder if it doesn't exist\n",
    "    os.makedirs(output_dir_for_set, exist_ok=True)\n",
    "\n",
    "    # Iterate over XML files in the folder\n",
    "    for xml_file in os.listdir(input_all_xml):\n",
    "        # Extract the basename (file name without extension)\n",
    "        file_basename = os.path.splitext(xml_file)[0]\n",
    "\n",
    "        # Check if the basename matches any of the desired article IDs\n",
    "        if file_basename in PMC_input_list:\n",
    "            # Build the paths for the source and destination\n",
    "            source_path = os.path.join(input_all_xml, xml_file)\n",
    "            destination_path = os.path.join(output_dir_for_set, xml_file)\n",
    "\n",
    "            # Copy the matching XML file to the output folder\n",
    "            shutil.copy2(source_path, destination_path)\n",
    "\n",
    "            #print(f\"Matching XML file '{xml_file}' copied to '{output_folder}'.\")"
   ]
  },
  {
   "attachments": {},
   "cell_type": "markdown",
   "metadata": {},
   "source": [
    "## Run the function to create different directories for each set. This saves matching XML files to the corresponding directories"
   ]
  },
  {
   "cell_type": "code",
   "execution_count": null,
   "metadata": {},
   "outputs": [],
   "source": [
    "# Define input directory that contains all XML files\n",
    "input_dir = '/Users/zeynepkorkmaz/Downloads/All_Articles/PMC000xxxxxx' # Change according to where we keep all XML files\n",
    "\n",
    "# Define paths to output directories\n",
    "output_dir_TP = \"/add/folder/dir/in/server/TP_all_XML\"\n",
    "output_dir_FP = \"/add/folder/dir/in/server/FP_all_XML\"\n",
    "output_dir_R = \"/add/folder/dir/in/server/R_all_XML\""
   ]
  },
  {
   "cell_type": "code",
   "execution_count": null,
   "metadata": {},
   "outputs": [],
   "source": [
    "extract_xml_from_PMCID(prefixed_PMC_ID_TP, input_dir, output_dir_TP)\n",
    "extract_xml_from_PMCID(prefixed_PMC_ID_FP, input_dir, output_dir_FP)\n",
    "extract_xml_from_PMCID(prefixed_PMC_ID_R, input_dir, output_dir_R)"
   ]
  }
 ],
 "metadata": {
  "kernelspec": {
   "display_name": "Python 3",
   "language": "python",
   "name": "python3"
  },
  "language_info": {
   "codemirror_mode": {
    "name": "ipython",
    "version": 3
   },
   "file_extension": ".py",
   "mimetype": "text/x-python",
   "name": "python",
   "nbconvert_exporter": "python",
   "pygments_lexer": "ipython3",
   "version": "3.11.1 (v3.11.1:a7a450f84a, Dec  6 2022, 15:24:06) [Clang 13.0.0 (clang-1300.0.29.30)]"
  },
  "orig_nbformat": 4,
  "vscode": {
   "interpreter": {
    "hash": "aee8b7b246df8f9039afb4144a1f6fd8d2ca17a180786b69acc140d282b71a49"
   }
  }
 },
 "nbformat": 4,
 "nbformat_minor": 2
}
