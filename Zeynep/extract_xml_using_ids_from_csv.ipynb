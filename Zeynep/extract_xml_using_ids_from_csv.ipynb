{
 "cells": [
  {
   "attachments": {},
   "cell_type": "markdown",
   "metadata": {},
   "source": [
    "## STEPS\n",
    "### 1. read csv and create a list of all pmid's and pmcid's (IGNORE THIS PART FOR NOW // still in progress)"
   ]
  },
  {
   "cell_type": "code",
   "execution_count": null,
   "metadata": {},
   "outputs": [],
   "source": [
    "import csv"
   ]
  },
  {
   "cell_type": "code",
   "execution_count": 34,
   "metadata": {},
   "outputs": [],
   "source": [
    "def extract_values_from_csv(csv_file):\n",
    "    column1_values = []\n",
    "    column2_values = []\n",
    "\n",
    "    with open(csv_file, 'r') as file:\n",
    "        csv_reader = csv.reader(file)\n",
    "        next(csv_reader)  # Skip the header row\n",
    "\n",
    "        for row in csv_reader:\n",
    "            # Split the row by commas and convert non-empty values to integers\n",
    "            values = [int(x.strip()) for x in row[0].split(',') if x.strip()]\n",
    "\n",
    "            # Assuming the first value is from the first column and the second value is from the second column\n",
    "            if len(values) >= 1:\n",
    "                column1_values.extend(values)  # Use extend to add multiple values\n",
    "            if len(values) >= 2:\n",
    "                column2_values.extend(values)  # Use extend to add multiple values\n",
    "\n",
    "    return column1_values, column2_values"
   ]
  },
  {
   "cell_type": "code",
   "execution_count": 42,
   "metadata": {},
   "outputs": [],
   "source": [
    "# Usage example:\n",
    "csv_file = '/Users/zeynepkorkmaz/Desktop/Master 1/Systems Biomedicine/NLP in biomedical research/pmid_pmcid_TP.csv'  # Replace with the path to your CSV file\n",
    "column1_values, column2_values = extract_values_from_csv(csv_file)\n",
    "#print(\"Values from column 1:\", column1_values)\n",
    "#print(\"Values from column 2:\", column2_values)\n"
   ]
  },
  {
   "cell_type": "code",
   "execution_count": 43,
   "metadata": {},
   "outputs": [
    {
     "data": {
      "text/plain": [
       "5071"
      ]
     },
     "execution_count": 43,
     "metadata": {},
     "output_type": "execute_result"
    }
   ],
   "source": [
    "len(column2_values)"
   ]
  },
  {
   "cell_type": "code",
   "execution_count": 44,
   "metadata": {},
   "outputs": [
    {
     "data": {
      "text/plain": [
       "5076"
      ]
     },
     "execution_count": 44,
     "metadata": {},
     "output_type": "execute_result"
    }
   ],
   "source": [
    "len(column1_values)"
   ]
  },
  {
   "attachments": {},
   "cell_type": "markdown",
   "metadata": {},
   "source": [
    "#### Both columns should be of same length --> this is due to the Nan values --> Will fix this part once we take care of that issue"
   ]
  },
  {
   "attachments": {},
   "cell_type": "markdown",
   "metadata": {},
   "source": [
    "## 2. Change the script such that the found XML files are saved in a directory seperately"
   ]
  },
  {
   "cell_type": "code",
   "execution_count": 23,
   "metadata": {},
   "outputs": [],
   "source": [
    "from lxml import etree as ET\n",
    "import os\n",
    "import shutil"
   ]
  },
  {
   "cell_type": "code",
   "execution_count": 24,
   "metadata": {},
   "outputs": [],
   "source": [
    "\n",
    "def extract_and_save_xml_files_lxml(input_list_pmids, input_list_pmcids, input_dir, output_dir):\n",
    "    previously_found_pmids = []\n",
    "    previously_found_pmcids = []\n",
    "\n",
    "    # Create the output directory if it does not exist\n",
    "    if not os.path.exists(output_dir):\n",
    "        os.makedirs(output_dir)\n",
    "\n",
    "    for subdir, _, files in os.walk(input_dir):\n",
    "        for file in files:\n",
    "            if file.endswith('.xml'):\n",
    "                xml_file_path = os.path.join(subdir, file)\n",
    "                try:\n",
    "                    parser = ET.XMLParser(recover=True, no_network=False)\n",
    "                    tree = ET.parse(xml_file_path, parser)\n",
    "                    root = tree.getroot()\n",
    "\n",
    "                    for element in root.xpath('.//article-id'):\n",
    "                        pub_id_type = element.get('pub-id-type')\n",
    "                        text = element.text\n",
    "\n",
    "                        if ((pub_id_type == 'pmid' and text in input_list_pmids and text not in previously_found_pmids) or \n",
    "                            (pub_id_type == 'pmc' and text in input_list_pmcids and text not in previously_found_pmcids)):\n",
    "                            \n",
    "                            # Save the XML file in the output directory\n",
    "                            output_file_path = os.path.join(output_dir, file)\n",
    "                            tree.write(output_file_path, encoding='utf-8', xml_declaration=True, pretty_print=True)\n",
    "\n",
    "                            # Keep track of added pmids and pmcids\n",
    "                            if pub_id_type == 'pmid':\n",
    "                                previously_found_pmids.append(text)\n",
    "                            if pub_id_type == 'pmc':\n",
    "                                previously_found_pmcids.append(text)\n",
    "                            \n",
    "                            break  # Break the loop once a valid 'article-id' is found\n",
    "                except ET.ParseError as e:\n",
    "                    print(f\"Skipping file {xml_file_path} due to parse error: {e}\")\n"
   ]
  },
  {
   "cell_type": "code",
   "execution_count": 47,
   "metadata": {},
   "outputs": [],
   "source": [
    "# This is just for testing\n",
    "# Once the issue in the first step is handled, this part will be modified\n",
    "test_pmids = [\"34035045\", \"34035044\", \"33888511\", \"12929205\"] # first three IDs version 1.3 and last one 1.0\n",
    "test_pmcids = [\"PMC8494224\", \"PMC8494231\", \"PMC8494234\", \"PMC176545\"] # first three IDs version 1.3 and last one 1.0"
   ]
  },
  {
   "cell_type": "code",
   "execution_count": 45,
   "metadata": {},
   "outputs": [],
   "source": [
    "# Define input and output directory\n",
    "input_dir = '/Users/zeynepkorkmaz/Downloads/All_Articles/PMC000xxxxxx'\n",
    "output_dir = \"/Users/zeynepkorkmaz/Downloads/separate_XML\""
   ]
  },
  {
   "cell_type": "code",
   "execution_count": 28,
   "metadata": {},
   "outputs": [],
   "source": [
    "extract_and_save_xml_files_lxml(test_pmids,test_pmcids,input_dir,output_dir )"
   ]
  },
  {
   "cell_type": "code",
   "execution_count": null,
   "metadata": {},
   "outputs": [],
   "source": []
  }
 ],
 "metadata": {
  "kernelspec": {
   "display_name": "Python 3",
   "language": "python",
   "name": "python3"
  },
  "language_info": {
   "codemirror_mode": {
    "name": "ipython",
    "version": 3
   },
   "file_extension": ".py",
   "mimetype": "text/x-python",
   "name": "python",
   "nbconvert_exporter": "python",
   "pygments_lexer": "ipython3",
   "version": "3.11.1"
  },
  "orig_nbformat": 4,
  "vscode": {
   "interpreter": {
    "hash": "aee8b7b246df8f9039afb4144a1f6fd8d2ca17a180786b69acc140d282b71a49"
   }
  }
 },
 "nbformat": 4,
 "nbformat_minor": 2
}
