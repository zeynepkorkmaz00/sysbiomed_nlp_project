{
 "cells": [
  {
   "cell_type": "code",
   "execution_count": 1,
   "metadata": {},
   "outputs": [],
   "source": [
    "import os\n",
    "import csv\n",
    "from lxml import etree as ET"
   ]
  },
  {
   "attachments": {},
   "cell_type": "markdown",
   "metadata": {},
   "source": [
    "### This function takes an XML file as input, parses it for \"Title, abstract, PMID, PublicationDate\" and returns these values in a dictionary."
   ]
  },
  {
   "cell_type": "code",
   "execution_count": 3,
   "metadata": {},
   "outputs": [],
   "source": [
    "def extract_metadata_from_xml(xml_path):\n",
    "    # Initialize the XMLParser with recover option\n",
    "    parser = ET.XMLParser(recover=True)\n",
    "    tree = ET.parse(xml_path, parser)\n",
    "    root = tree.getroot()\n",
    "\n",
    "    # Safely extracting title with all child elements\n",
    "    title_element = root.find(\".//title-group/article-title\")\n",
    "    title = ''.join(title_element.itertext()).strip() if title_element is not None else \"\"\n",
    "\n",
    "    # Safely extracting abstract, including all sections and child elements\n",
    "    abstract_elements = root.findall(\".//abstract//p\")\n",
    "    abstract = \" \".join([''.join(elem.itertext()).strip() for elem in abstract_elements if elem is not None])\n",
    "\n",
    "    # Safely extracting PMID\n",
    "    pmid_element = root.find(\".//article-id[@pub-id-type='pmid']\")\n",
    "    pmid = pmid_element.text.strip() if pmid_element is not None and pmid_element.text else \"\"\n",
    "\n",
    "    # Safely extracting publication date\n",
    "    pub_date_element = root.find(\".//pub-date/year\")\n",
    "    pub_date = pub_date_element.text.strip() if pub_date_element is not None and pub_date_element.text else \"\"\n",
    "\n",
    "    return {\n",
    "        'Title': title,\n",
    "        'Abstract': abstract,\n",
    "        'PMID': pmid,\n",
    "        'PublicationDate': pub_date\n",
    "    }\n"
   ]
  },
  {
   "attachments": {},
   "cell_type": "markdown",
   "metadata": {},
   "source": [
    "### This goes through a directory of XML files, runs the previous function for each XML and saves the results in a CSV file."
   ]
  },
  {
   "cell_type": "code",
   "execution_count": 9,
   "metadata": {},
   "outputs": [],
   "source": [
    "def extract_metadata_from_directory(xml_directory):\n",
    "    # CHANGE THE OUTPUT FILE PATH HERE\n",
    "    csv_file_path = \"/Users/zeynepkorkmaz/Downloads/metadata.csv\"\n",
    "    with open(csv_file_path, mode='w', newline='', encoding='utf-8') as file:\n",
    "        writer = csv.DictWriter(file, fieldnames=[\"Title\", \"Abstract\", \"PMID\", \"PublicationDate\"])\n",
    "        writer.writeheader()\n",
    "\n",
    "        # Loop through each XML file in the directory\n",
    "        for filename in os.listdir(xml_directory):\n",
    "            if filename.endswith('.xml'):\n",
    "                xml_path = os.path.join(xml_directory, filename)\n",
    "                metadata = extract_metadata_from_xml(xml_path)\n",
    "                writer.writerow(metadata)"
   ]
  },
  {
   "attachments": {},
   "cell_type": "markdown",
   "metadata": {},
   "source": [
    "### Specify the directory to the XML files"
   ]
  },
  {
   "cell_type": "code",
   "execution_count": 12,
   "metadata": {},
   "outputs": [],
   "source": [
    "xml_path_all = \"/Users/zeynepkorkmaz/Downloads/All_Articles/PMC000xxxxxx\""
   ]
  },
  {
   "cell_type": "code",
   "execution_count": 13,
   "metadata": {},
   "outputs": [],
   "source": [
    "extract_metadata_from_directory(xml_path_all)"
   ]
  },
  {
   "attachments": {},
   "cell_type": "markdown",
   "metadata": {},
   "source": [
    "### This part is to check the output of one XML"
   ]
  },
  {
   "cell_type": "code",
   "execution_count": 5,
   "metadata": {},
   "outputs": [],
   "source": [
    "xml_path_single = \"/Users/zeynepkorkmaz/Downloads/separate_XML/PMC176545.xml\""
   ]
  },
  {
   "cell_type": "code",
   "execution_count": 6,
   "metadata": {},
   "outputs": [
    {
     "data": {
      "text/plain": [
       "{'Title': 'The Transcriptome of the Intraerythrocytic Developmental Cycle of Plasmodium falciparum',\n",
       " 'Abstract': 'Plasmodium falciparum is the causative agent of the most burdensome form of human malaria, affecting 200–300 million individuals per year worldwide. The recently sequenced genome of P. falciparum revealed over 5,400 genes, of which 60% encode proteins of unknown function. Insights into the biochemical function and regulation of these genes will provide the foundation for future drug and vaccine development efforts toward eradication of this disease. By analyzing the complete asexual intraerythrocytic developmental cycle (IDC) transcriptome of the HB3 strain of P. falciparum, we demonstrate that at least 60% of the genome is transcriptionally active during this stage. Our data demonstrate that this parasite has evolved an extremely specialized mode of transcriptional regulation that produces a continuous cascade of gene expression, beginning with genes corresponding to general cellular processes, such as protein synthesis, and ending with Plasmodium-specific functionalities, such as genes involved in erythrocyte invasion. The data reveal that genes contiguous along the chromosomes are rarely coregulated, while transcription from the plastid genome is highly coregulated and likely polycistronic. Comparative genomic hybridization between HB3 and the reference genome strain (3D7) was used to distinguish between genes not expressed during the IDC and genes not detected because of possible sequence variations. Genomic differences between these strains were found almost exclusively in the highly antigenic subtelomeric regions of chromosomes. The simple cascade of gene regulation that directs the asexual development of P. falciparum is unprecedented in eukaryotic biology. The transcriptome of the IDC resembles a “just-in-time” manufacturing process whereby induction of any given gene occurs once per cycle and only at a time when it is required. These data provide to our knowledge the first comprehensive view of the timing of transcription throughout the intraerythrocytic development of P. falciparum and provide a resource for the identification of new chemotherapeutic and vaccine candidates. A tight cascade of gene regulation during the lifecycle of the malaria parasite in human blood cells suggests new functions for many Plasmodium genes',\n",
       " 'PMID': '12929205',\n",
       " 'PublicationDate': '2003'}"
      ]
     },
     "execution_count": 6,
     "metadata": {},
     "output_type": "execute_result"
    }
   ],
   "source": [
    "extract_metadata_from_xml(xml_path_single)"
   ]
  },
  {
   "attachments": {},
   "cell_type": "markdown",
   "metadata": {},
   "source": [
    "### Checking length of CSV"
   ]
  },
  {
   "cell_type": "code",
   "execution_count": 26,
   "metadata": {},
   "outputs": [
    {
     "name": "stdout",
     "output_type": "stream",
     "text": [
      "Length of CSV file: 2993\n"
     ]
    }
   ],
   "source": [
    "import csv\n",
    "\n",
    "def count_csv_rows(filename):\n",
    "    with open(filename, 'r', newline='') as csvfile:\n",
    "        csv_reader = csv.reader(csvfile)\n",
    "        row_count = sum(1 for row in csv_reader)\n",
    "    return row_count\n",
    "\n",
    "# Replace 'your_file.csv' with the path to your CSV file\n",
    "csv_filename = '/Users/zeynepkorkmaz/Downloads/metadata.csv'\n",
    "csv_length = count_csv_rows(csv_filename)\n",
    "print(\"Length of CSV file:\", csv_length)\n"
   ]
  },
  {
   "attachments": {},
   "cell_type": "markdown",
   "metadata": {},
   "source": [
    "##### 2993 including the row with the column names"
   ]
  },
  {
   "attachments": {},
   "cell_type": "markdown",
   "metadata": {},
   "source": [
    "### Checking length of CSV again but using the pandas dataframe"
   ]
  },
  {
   "cell_type": "code",
   "execution_count": 14,
   "metadata": {},
   "outputs": [],
   "source": [
    "import pandas as pd"
   ]
  },
  {
   "cell_type": "code",
   "execution_count": 15,
   "metadata": {},
   "outputs": [],
   "source": [
    "metadata = pd.read_csv(\"/Users/zeynepkorkmaz/Downloads/metadata.csv\")"
   ]
  },
  {
   "cell_type": "code",
   "execution_count": 25,
   "metadata": {},
   "outputs": [
    {
     "data": {
      "text/plain": [
       "2992"
      ]
     },
     "execution_count": 25,
     "metadata": {},
     "output_type": "execute_result"
    }
   ],
   "source": [
    "len(metadata)"
   ]
  },
  {
   "cell_type": "code",
   "execution_count": 28,
   "metadata": {},
   "outputs": [
    {
     "name": "stdout",
     "output_type": "stream",
     "text": [
      "No duplicates found under PMID column.\n"
     ]
    }
   ],
   "source": [
    "metadata_without_nan = metadata.dropna(subset=['PMID'])\n",
    "duplicates = metadata_without_nan[metadata_without_nan.duplicated(subset=['PMID'], keep=False)]\n",
    "\n",
    "if duplicates.empty:\n",
    "    print(\"No duplicates found under PMID column.\")\n",
    "else:\n",
    "    print(\"Duplicates found under PMID column (ignoring NaN values):\")"
   ]
  }
 ],
 "metadata": {
  "kernelspec": {
   "display_name": "Python 3",
   "language": "python",
   "name": "python3"
  },
  "language_info": {
   "codemirror_mode": {
    "name": "ipython",
    "version": 3
   },
   "file_extension": ".py",
   "mimetype": "text/x-python",
   "name": "python",
   "nbconvert_exporter": "python",
   "pygments_lexer": "ipython3",
   "version": "3.11.1"
  },
  "orig_nbformat": 4,
  "vscode": {
   "interpreter": {
    "hash": "aee8b7b246df8f9039afb4144a1f6fd8d2ca17a180786b69acc140d282b71a49"
   }
  }
 },
 "nbformat": 4,
 "nbformat_minor": 2
}
