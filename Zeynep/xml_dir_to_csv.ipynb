{
 "cells": [
  {
   "cell_type": "code",
   "execution_count": 7,
   "metadata": {},
   "outputs": [],
   "source": [
    "import os\n",
    "import csv\n",
    "from lxml import etree as ET"
   ]
  },
  {
   "cell_type": "code",
   "execution_count": 8,
   "metadata": {},
   "outputs": [],
   "source": [
    "def extract_metadata_from_xml(xml_path):\n",
    "    # Initialize the XMLParser with recover option\n",
    "    parser = ET.XMLParser(recover=True)\n",
    "    tree = ET.parse(xml_path, parser)\n",
    "    root = tree.getroot()\n",
    "\n",
    "    # Safely extracting title\n",
    "    title_element = root.find(\".//title-group/article-title\")\n",
    "    title = title_element.text.strip() if title_element is not None and title_element.text else \"\"\n",
    "\n",
    "    # Safely extracting abstract, including all sections\n",
    "    abstract_elements = root.findall(\".//abstract//p\")\n",
    "    abstract = \" \".join([elem.text.strip() for elem in abstract_elements if elem is not None and elem.text])\n",
    "\n",
    "    # Safely extracting PMID\n",
    "    pmid_element = root.find(\".//article-id[@pub-id-type='pmid']\")\n",
    "    pmid = pmid_element.text.strip() if pmid_element is not None and pmid_element.text else \"\"\n",
    "\n",
    "    # Safely extracting publication date\n",
    "    pub_date_element = root.find(\".//pub-date/year\")\n",
    "    pub_date = pub_date_element.text.strip() if pub_date_element is not None and pub_date_element.text else \"\"\n",
    "\n",
    "    return {\n",
    "        'Title': title,\n",
    "        'Abstract': abstract,\n",
    "        'PMID': pmid,\n",
    "        'PublicationDate': pub_date\n",
    "    }\n"
   ]
  },
  {
   "cell_type": "code",
   "execution_count": 13,
   "metadata": {},
   "outputs": [],
   "source": [
    "def extract_metadata_from_directory(xml_directory):\n",
    "    # Prepare the CSV file for writing\n",
    "    csv_file_path = \"/Users/zeynepkorkmaz/Downloads/metadata.csv\"\n",
    "    with open(csv_file_path, mode='w', newline='', encoding='utf-8') as file:\n",
    "        writer = csv.DictWriter(file, fieldnames=[\"Title\", \"Abstract\", \"PMID\", \"PublicationDate\"])\n",
    "        writer.writeheader()\n",
    "\n",
    "        # Loop through each XML file in the directory\n",
    "        for filename in os.listdir(xml_directory):\n",
    "            if filename.endswith('.xml'):\n",
    "                xml_path = os.path.join(xml_directory, filename)\n",
    "                metadata = extract_metadata_from_xml(xml_path)\n",
    "                writer.writerow(metadata)"
   ]
  },
  {
   "cell_type": "code",
   "execution_count": 10,
   "metadata": {},
   "outputs": [],
   "source": [
    "xml_path_all = \"/Users/zeynepkorkmaz/Downloads/separate_XML\""
   ]
  },
  {
   "cell_type": "code",
   "execution_count": 20,
   "metadata": {},
   "outputs": [],
   "source": [
    "xml_path_single = \"/Users/zeynepkorkmaz/Downloads/separate_XML/PMC176545.xml\""
   ]
  },
  {
   "cell_type": "code",
   "execution_count": 18,
   "metadata": {},
   "outputs": [],
   "source": [
    "extract_metadata_from_directory(xml_path_all)"
   ]
  },
  {
   "cell_type": "code",
   "execution_count": 33,
   "metadata": {},
   "outputs": [
    {
     "data": {
      "text/plain": [
       "{'Title': 'The Transcriptome of the Intraerythrocytic Developmental Cycle of',\n",
       " 'Abstract': ' A tight cascade of gene regulation during the lifecycle of the malaria parasite in human blood cells suggests new functions for many',\n",
       " 'PMID': '12929205',\n",
       " 'PublicationDate': '2003'}"
      ]
     },
     "execution_count": 33,
     "metadata": {},
     "output_type": "execute_result"
    }
   ],
   "source": [
    "extract_metadata_from_xml_v2(xml_path_single)"
   ]
  },
  {
   "cell_type": "code",
   "execution_count": null,
   "metadata": {},
   "outputs": [],
   "source": []
  }
 ],
 "metadata": {
  "kernelspec": {
   "display_name": "Python 3",
   "language": "python",
   "name": "python3"
  },
  "language_info": {
   "codemirror_mode": {
    "name": "ipython",
    "version": 3
   },
   "file_extension": ".py",
   "mimetype": "text/x-python",
   "name": "python",
   "nbconvert_exporter": "python",
   "pygments_lexer": "ipython3",
   "version": "3.11.1"
  },
  "orig_nbformat": 4,
  "vscode": {
   "interpreter": {
    "hash": "aee8b7b246df8f9039afb4144a1f6fd8d2ca17a180786b69acc140d282b71a49"
   }
  }
 },
 "nbformat": 4,
 "nbformat_minor": 2
}
