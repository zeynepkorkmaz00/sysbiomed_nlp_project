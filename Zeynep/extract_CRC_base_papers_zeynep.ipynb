{
 "cells": [
  {
   "attachments": {},
   "cell_type": "markdown",
   "metadata": {},
   "source": [
    "### Requierement: pip install lxml"
   ]
  },
  {
   "cell_type": "code",
   "execution_count": 1,
   "metadata": {},
   "outputs": [],
   "source": [
    "from lxml import etree as ET\n",
    "import csv\n",
    "import os\n",
    "import copy\n"
   ]
  },
  {
   "attachments": {},
   "cell_type": "markdown",
   "metadata": {},
   "source": [
    "### Modified code to handle both versions of DTD: DTD v1.3 and v1.0"
   ]
  },
  {
   "cell_type": "code",
   "execution_count": 2,
   "metadata": {},
   "outputs": [],
   "source": [
    "\n",
    "# Change working directory\n",
    "#os.chdir(\"/Users/tillohlendorf/Documents/MBT/Module/Systems_BioMedicine/NLP/TFA_repo/sysbiomed_nlp_project/Till\")\n",
    "\n",
    "def extract_xml_files(input_list_pmids, input_list_pmcids, input_dir, output_file):\n",
    "    CRC_root = ET.Element(\"CRC_articles\")\n",
    "    previously_found_pmids = []\n",
    "    previously_found_pmcids = []\n",
    "\n",
    "    for subdir, _, files in os.walk(input_dir):\n",
    "        for file in files:\n",
    "            if file.endswith('.xml'):\n",
    "                xml_file_path = os.path.join(subdir, file)\n",
    "                try:\n",
    "                    parser = ET.XMLParser(recover=True)  # 'recover' allows for parsing despite errors\n",
    "                    tree = ET.parse(xml_file_path, parser)\n",
    "                    root = tree.getroot()\n",
    "                    root_copy = copy.deepcopy(root)\n",
    "\n",
    "                    for element in root_copy.xpath('.//article-id'):\n",
    "                        pub_id_type = element.get('pub-id-type')\n",
    "                        text = element.text\n",
    "\n",
    "                        if ((pub_id_type == 'pmid' and text in input_list_pmids and text not in previously_found_pmids) or \n",
    "                            (pub_id_type == 'pmc' and text in input_list_pmcids and text not in previously_found_pmcids)):\n",
    "\n",
    "                            CRC_root.append(root_copy)\n",
    "                            # Keep track of added pmids and pmcids\n",
    "                            if pub_id_type == 'pmid':\n",
    "                                previously_found_pmids.append(text)\n",
    "                            if pub_id_type == 'pmc':\n",
    "                                previously_found_pmcids.append(text)\n",
    "                            \n",
    "                            break  # Break the loop once a valid 'article-id' is found\n",
    "                except ET.ParseError as e:\n",
    "                    print(f\"Skipping file {xml_file_path} due to parse error: {e}\")\n",
    "\n",
    "    CRC_tree = ET.ElementTree(CRC_root)\n",
    "    CRC_tree.write(output_file, encoding='utf-8', xml_declaration=True)\n",
    "\n",
    "# Example usage\n",
    "# Define your input lists, input directory, and output file\n",
    "# extract_xml_files(input_list_pmids, input_list_pmcids, input_dir, output_file)\n"
   ]
  },
  {
   "cell_type": "code",
   "execution_count": 3,
   "metadata": {},
   "outputs": [],
   "source": [
    "test_pmids = [\"34035045\", \"34035044\", \"33888511\", \"12929205\"] # first three IDs version 1.3 and last one 1.0\n",
    "test_pmcids = [\"PMC8494224\", \"PMC8494231\", \"PMC8494234\", \"PMC176545\"] # first three IDs version 1.3 and last one 1.0"
   ]
  },
  {
   "cell_type": "code",
   "execution_count": 5,
   "metadata": {},
   "outputs": [],
   "source": [
    "input_dir = '/Users/zeynepkorkmaz/Downloads/All_Articles/PMC000xxxxxx'\n",
    "\n",
    "output_file = \"/Users/zeynepkorkmaz/Downloads/Error_XML_test.xml\""
   ]
  },
  {
   "cell_type": "code",
   "execution_count": 7,
   "metadata": {},
   "outputs": [],
   "source": [
    "extract_xml_files(test_pmids, test_pmcids, input_dir, output_file )"
   ]
  },
  {
   "cell_type": "code",
   "execution_count": null,
   "metadata": {},
   "outputs": [],
   "source": []
  }
 ],
 "metadata": {
  "kernelspec": {
   "display_name": "Python 3",
   "language": "python",
   "name": "python3"
  },
  "language_info": {
   "codemirror_mode": {
    "name": "ipython",
    "version": 3
   },
   "file_extension": ".py",
   "mimetype": "text/x-python",
   "name": "python",
   "nbconvert_exporter": "python",
   "pygments_lexer": "ipython3",
   "version": "3.11.1"
  },
  "orig_nbformat": 4,
  "vscode": {
   "interpreter": {
    "hash": "aee8b7b246df8f9039afb4144a1f6fd8d2ca17a180786b69acc140d282b71a49"
   }
  }
 },
 "nbformat": 4,
 "nbformat_minor": 2
}
