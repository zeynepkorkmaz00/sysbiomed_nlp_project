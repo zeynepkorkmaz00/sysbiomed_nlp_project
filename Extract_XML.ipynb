{
 "cells": [
  {
   "cell_type": "code",
   "execution_count": 1,
   "id": "6ee6a895-37d1-4c82-bc07-cd1d529d6a07",
   "metadata": {
    "tags": []
   },
   "outputs": [],
   "source": [
    "import xml.etree.ElementTree as ET\n",
    "import tarfile\n",
    "import os\n",
    "import shutil"
   ]
  },
  {
   "cell_type": "code",
   "execution_count": 3,
   "id": "dc5f0e14-5c6e-4b63-937d-e8b9246abee1",
   "metadata": {
    "tags": []
   },
   "outputs": [],
   "source": [
    "def decompress_tar_gz(tar_gz_file, extraction_path):\n",
    "    with tarfile.open(tar_gz_file, 'r:gz') as tar:\n",
    "        tar.extractall(path=extraction_path)"
   ]
  },
  {
   "cell_type": "code",
   "execution_count": null,
   "id": "b131df04-4bb7-4ede-94f2-f525a5b96b0d",
   "metadata": {
    "tags": []
   },
   "outputs": [],
   "source": [
    "# Example usage\n",
    "tar_gz_file_path = 'C:\\\\Users\\\\sabri\\\\Downloads\\\\oa_comm_xml.PMC010xxxxxx.baseline.2023-12-18.tar.gz'\n",
    "\n",
    "# Create an \"Extracted_XML\" folder in the working directory\n",
    "# output_folder = os.path.join(os.getcwd(), 'Extracted_XML')\n",
    "# os.makedirs(output_folder, exist_ok=True)\n",
    "\n",
    "# Decompress the tar.gz file\n",
    "extraction_path = os.path.join(os.getcwd(), 'All_Articles')\n",
    "decompress_tar_gz(tar_gz_file_path, extraction_path)"
   ]
  },
  {
   "cell_type": "markdown",
   "id": "f7085df9-aedc-424f-bcee-905a42cc61b0",
   "metadata": {},
   "source": [
    "### Filter by using PMC"
   ]
  },
  {
   "cell_type": "code",
   "execution_count": 57,
   "id": "5f7ee48c-35ce-4bc7-aa61-689c522e6c35",
   "metadata": {},
   "outputs": [
    {
     "name": "stdout",
     "output_type": "stream",
     "text": [
      "Matching XML file 'PMC176545.xml' copied to 'Extracted_XML'.\n",
      "Matching XML file 'PMC176546.xml' copied to 'Extracted_XML'.\n",
      "Matching XML file 'PMC176548.xml' copied to 'Extracted_XML'.\n"
     ]
    }
   ],
   "source": [
    "# Specify the path to the folder containing XML files\n",
    "xml_folder_path = 'All_Articles'\n",
    "\n",
    "# Specify the desired article IDs\n",
    "desired_article_ids = ['PMC176546', 'PMC176545', 'PMC176548']\n",
    "\n",
    "# Specify the output folder\n",
    "output_folder = 'Extracted_XML'\n",
    "\n",
    "# Create the output folder if it doesn't exist\n",
    "os.makedirs(output_folder, exist_ok=True)\n",
    "\n",
    "# Iterate over XML files in the folder\n",
    "for xml_file in os.listdir(xml_folder_path):\n",
    "    # Extract the basename (file name without extension)\n",
    "    file_basename = os.path.splitext(xml_file)[0]\n",
    "\n",
    "    # Check if the basename matches any of the desired article IDs\n",
    "    if file_basename in desired_article_ids:\n",
    "        # Build the paths for the source and destination\n",
    "        source_path = os.path.join(xml_folder_path, xml_file)\n",
    "        destination_path = os.path.join(output_folder, xml_file)\n",
    "\n",
    "        # Copy the matching XML file to the output folder\n",
    "        shutil.copy2(source_path, destination_path)\n",
    "\n",
    "        print(f\"Matching XML file '{xml_file}' copied to '{output_folder}'.\")"
   ]
  },
  {
   "cell_type": "markdown",
   "id": "3f283e09-d24e-4834-9da0-427fc0a3fbde",
   "metadata": {},
   "source": [
    "### Filter by using PubMed ID instead of PMC"
   ]
  },
  {
   "cell_type": "code",
   "execution_count": 6,
   "id": "17e95d76-20ca-4269-afe4-f8f4f129c8af",
   "metadata": {},
   "outputs": [
    {
     "name": "stdout",
     "output_type": "stream",
     "text": [
      "Selected articles saved to 'Extracted_XML/selected_articles.xml'.\n"
     ]
    }
   ],
   "source": [
    "# Specify the path to the folder containing individual XML files\n",
    "input_folder_path = 'All_Articles\\PMC000xxxxxx'\n",
    "\n",
    "# Specify the list of desired pmids\n",
    "desired_pmids = [12929205, 12975657]\n",
    "\n",
    "# Initialize an empty list to store selected articles\n",
    "selected_articles = []\n",
    "\n",
    "# Recursively iterate over XML files in the root and its subdirectories\n",
    "for root, dirs, files in os.walk(input_folder_path):\n",
    "    for xml_file in files:\n",
    "        if xml_file.endswith('.xml'):\n",
    "            xml_file_path = os.path.join(root, xml_file)\n",
    "\n",
    "            # Parse the content of each XML file\n",
    "            tree = ET.parse(xml_file_path)\n",
    "\n",
    "            # Check if the PMID is in the list of desired pmids\n",
    "            pmid_element = tree.find('.//article-id[@pub-id-type=\"pmid\"]')\n",
    "            if pmid_element is not None and pmid_element.text in desired_pmids:\n",
    "                # Append the root of the XML document to the selected articles root\n",
    "                combined_root.extend(tree.getroot())\n",
    "\n",
    "# Create a new ElementTree with the selected articles as the root\n",
    "combined_tree = ET.ElementTree(ET.Element('CombinedRoot'))\n",
    "\n",
    "# Append selected articles to the new root element\n",
    "for article in selected_articles:\n",
    "    print(article)\n",
    "    combined_tree.getroot().append(article)\n",
    "\n",
    "# Specify the output path for the selected articles XML file\n",
    "output_file_path = 'Extracted_XML/selected_articles.xml'\n",
    "\n",
    "# Write the selected articles to the output file\n",
    "combined_tree.write(output_file_path, encoding='utf-8', xml_declaration=True)\n",
    "\n",
    "print(f\"Selected articles saved to '{output_file_path}'.\")"
   ]
  },
  {
   "cell_type": "code",
   "execution_count": null,
   "id": "1f633797-8a4a-4ce9-b68a-460d4d1fff8f",
   "metadata": {},
   "outputs": [],
   "source": []
  }
 ],
 "metadata": {
  "kernelspec": {
   "display_name": "Python 3 (ipykernel)",
   "language": "python",
   "name": "python3"
  },
  "language_info": {
   "codemirror_mode": {
    "name": "ipython",
    "version": 3
   },
   "file_extension": ".py",
   "mimetype": "text/x-python",
   "name": "python",
   "nbconvert_exporter": "python",
   "pygments_lexer": "ipython3",
   "version": "3.11.3"
  }
 },
 "nbformat": 4,
 "nbformat_minor": 5
}
