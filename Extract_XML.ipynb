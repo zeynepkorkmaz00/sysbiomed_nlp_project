{
 "cells": [
  {
   "cell_type": "code",
   "execution_count": 1,
   "id": "6ee6a895-37d1-4c82-bc07-cd1d529d6a07",
   "metadata": {
    "tags": []
   },
   "outputs": [],
   "source": [
    "import xml.etree.ElementTree as ET\n",
    "import tarfile\n",
    "import os\n",
    "import shutil"
   ]
  },
  {
   "cell_type": "code",
   "execution_count": 2,
   "id": "dc5f0e14-5c6e-4b63-937d-e8b9246abee1",
   "metadata": {
    "tags": []
   },
   "outputs": [],
   "source": [
    "def decompress_tar_gz(tar_gz_file, extraction_path):\n",
    "    with tarfile.open(tar_gz_file, 'r:gz') as tar:\n",
    "        tar.extractall(path=extraction_path)"
   ]
  },
  {
   "cell_type": "code",
   "execution_count": 8,
   "id": "3bced792-1355-4d6f-8779-c59da9651949",
   "metadata": {
    "tags": []
   },
   "outputs": [
    {
     "ename": "KeyboardInterrupt",
     "evalue": "",
     "output_type": "error",
     "traceback": [
      "\u001b[1;31m---------------------------------------------------------------------------\u001b[0m",
      "\u001b[1;31mKeyboardInterrupt\u001b[0m                         Traceback (most recent call last)",
      "Cell \u001b[1;32mIn[8], line 10\u001b[0m\n\u001b[0;32m      8\u001b[0m \u001b[38;5;66;03m# Decompress the tar.gz file\u001b[39;00m\n\u001b[0;32m      9\u001b[0m extraction_path \u001b[38;5;241m=\u001b[39m os\u001b[38;5;241m.\u001b[39mpath\u001b[38;5;241m.\u001b[39mjoin(os\u001b[38;5;241m.\u001b[39mgetcwd(), \u001b[38;5;124m'\u001b[39m\u001b[38;5;124mAll_Articles\u001b[39m\u001b[38;5;124m'\u001b[39m)\n\u001b[1;32m---> 10\u001b[0m decompress_tar_gz(tar_gz_file_path, extraction_path)\n",
      "Cell \u001b[1;32mIn[2], line 3\u001b[0m, in \u001b[0;36mdecompress_tar_gz\u001b[1;34m(tar_gz_file, extraction_path)\u001b[0m\n\u001b[0;32m      1\u001b[0m \u001b[38;5;28;01mdef\u001b[39;00m \u001b[38;5;21mdecompress_tar_gz\u001b[39m(tar_gz_file, extraction_path):\n\u001b[0;32m      2\u001b[0m     \u001b[38;5;28;01mwith\u001b[39;00m tarfile\u001b[38;5;241m.\u001b[39mopen(tar_gz_file, \u001b[38;5;124m'\u001b[39m\u001b[38;5;124mr:gz\u001b[39m\u001b[38;5;124m'\u001b[39m) \u001b[38;5;28;01mas\u001b[39;00m tar:\n\u001b[1;32m----> 3\u001b[0m         tar\u001b[38;5;241m.\u001b[39mextractall(path\u001b[38;5;241m=\u001b[39mextraction_path)\n",
      "File \u001b[1;32m~\\anaconda3\\Lib\\tarfile.py:2059\u001b[0m, in \u001b[0;36mTarFile.extractall\u001b[1;34m(self, path, members, numeric_owner)\u001b[0m\n\u001b[0;32m   2057\u001b[0m         tarinfo\u001b[38;5;241m.\u001b[39mmode \u001b[38;5;241m=\u001b[39m \u001b[38;5;241m0o700\u001b[39m\n\u001b[0;32m   2058\u001b[0m     \u001b[38;5;66;03m# Do not set_attrs directories, as we will do that further down\u001b[39;00m\n\u001b[1;32m-> 2059\u001b[0m     \u001b[38;5;28mself\u001b[39m\u001b[38;5;241m.\u001b[39mextract(tarinfo, path, set_attrs\u001b[38;5;241m=\u001b[39m\u001b[38;5;129;01mnot\u001b[39;00m tarinfo\u001b[38;5;241m.\u001b[39misdir(),\n\u001b[0;32m   2060\u001b[0m                  numeric_owner\u001b[38;5;241m=\u001b[39mnumeric_owner)\n\u001b[0;32m   2062\u001b[0m \u001b[38;5;66;03m# Reverse sort directories.\u001b[39;00m\n\u001b[0;32m   2063\u001b[0m directories\u001b[38;5;241m.\u001b[39msort(key\u001b[38;5;241m=\u001b[39m\u001b[38;5;28;01mlambda\u001b[39;00m a: a\u001b[38;5;241m.\u001b[39mname)\n",
      "File \u001b[1;32m~\\anaconda3\\Lib\\tarfile.py:2100\u001b[0m, in \u001b[0;36mTarFile.extract\u001b[1;34m(self, member, path, set_attrs, numeric_owner)\u001b[0m\n\u001b[0;32m   2097\u001b[0m     tarinfo\u001b[38;5;241m.\u001b[39m_link_target \u001b[38;5;241m=\u001b[39m os\u001b[38;5;241m.\u001b[39mpath\u001b[38;5;241m.\u001b[39mjoin(path, tarinfo\u001b[38;5;241m.\u001b[39mlinkname)\n\u001b[0;32m   2099\u001b[0m \u001b[38;5;28;01mtry\u001b[39;00m:\n\u001b[1;32m-> 2100\u001b[0m     \u001b[38;5;28mself\u001b[39m\u001b[38;5;241m.\u001b[39m_extract_member(tarinfo, os\u001b[38;5;241m.\u001b[39mpath\u001b[38;5;241m.\u001b[39mjoin(path, tarinfo\u001b[38;5;241m.\u001b[39mname),\n\u001b[0;32m   2101\u001b[0m                          set_attrs\u001b[38;5;241m=\u001b[39mset_attrs,\n\u001b[0;32m   2102\u001b[0m                          numeric_owner\u001b[38;5;241m=\u001b[39mnumeric_owner)\n\u001b[0;32m   2103\u001b[0m \u001b[38;5;28;01mexcept\u001b[39;00m \u001b[38;5;167;01mOSError\u001b[39;00m \u001b[38;5;28;01mas\u001b[39;00m e:\n\u001b[0;32m   2104\u001b[0m     \u001b[38;5;28;01mif\u001b[39;00m \u001b[38;5;28mself\u001b[39m\u001b[38;5;241m.\u001b[39merrorlevel \u001b[38;5;241m>\u001b[39m \u001b[38;5;241m0\u001b[39m:\n",
      "File \u001b[1;32m~\\anaconda3\\Lib\\tarfile.py:2173\u001b[0m, in \u001b[0;36mTarFile._extract_member\u001b[1;34m(self, tarinfo, targetpath, set_attrs, numeric_owner)\u001b[0m\n\u001b[0;32m   2170\u001b[0m     \u001b[38;5;28mself\u001b[39m\u001b[38;5;241m.\u001b[39m_dbg(\u001b[38;5;241m1\u001b[39m, tarinfo\u001b[38;5;241m.\u001b[39mname)\n\u001b[0;32m   2172\u001b[0m \u001b[38;5;28;01mif\u001b[39;00m tarinfo\u001b[38;5;241m.\u001b[39misreg():\n\u001b[1;32m-> 2173\u001b[0m     \u001b[38;5;28mself\u001b[39m\u001b[38;5;241m.\u001b[39mmakefile(tarinfo, targetpath)\n\u001b[0;32m   2174\u001b[0m \u001b[38;5;28;01melif\u001b[39;00m tarinfo\u001b[38;5;241m.\u001b[39misdir():\n\u001b[0;32m   2175\u001b[0m     \u001b[38;5;28mself\u001b[39m\u001b[38;5;241m.\u001b[39mmakedir(tarinfo, targetpath)\n",
      "File \u001b[1;32m~\\anaconda3\\Lib\\tarfile.py:2214\u001b[0m, in \u001b[0;36mTarFile.makefile\u001b[1;34m(self, tarinfo, targetpath)\u001b[0m\n\u001b[0;32m   2212\u001b[0m source\u001b[38;5;241m.\u001b[39mseek(tarinfo\u001b[38;5;241m.\u001b[39moffset_data)\n\u001b[0;32m   2213\u001b[0m bufsize \u001b[38;5;241m=\u001b[39m \u001b[38;5;28mself\u001b[39m\u001b[38;5;241m.\u001b[39mcopybufsize\n\u001b[1;32m-> 2214\u001b[0m \u001b[38;5;28;01mwith\u001b[39;00m bltn_open(targetpath, \u001b[38;5;124m\"\u001b[39m\u001b[38;5;124mwb\u001b[39m\u001b[38;5;124m\"\u001b[39m) \u001b[38;5;28;01mas\u001b[39;00m target:\n\u001b[0;32m   2215\u001b[0m     \u001b[38;5;28;01mif\u001b[39;00m tarinfo\u001b[38;5;241m.\u001b[39msparse \u001b[38;5;129;01mis\u001b[39;00m \u001b[38;5;129;01mnot\u001b[39;00m \u001b[38;5;28;01mNone\u001b[39;00m:\n\u001b[0;32m   2216\u001b[0m         \u001b[38;5;28;01mfor\u001b[39;00m offset, size \u001b[38;5;129;01min\u001b[39;00m tarinfo\u001b[38;5;241m.\u001b[39msparse:\n",
      "\u001b[1;31mKeyboardInterrupt\u001b[0m: "
     ]
    }
   ],
   "source": [
    "# Example usage\n",
    "tar_gz_file_path = 'C:\\\\Users\\\\sabri\\\\Downloads\\\\oa_comm_xml.PMC010xxxxxx.baseline.2023-12-18.tar.gz'\n",
    "\n",
    "# Create an \"Extracted_XML\" folder in the working directory\n",
    "# output_folder = os.path.join(os.getcwd(), 'Extracted_XML')\n",
    "# os.makedirs(output_folder, exist_ok=True)\n",
    "\n",
    "# Decompress the tar.gz file\n",
    "extraction_path = os.path.join(os.getcwd(), 'All_Articles')\n",
    "decompress_tar_gz(tar_gz_file_path, extraction_path)"
   ]
  },
  {
   "cell_type": "markdown",
   "id": "b9d8b0eb-2c24-4e8b-a843-e02fd69c198b",
   "metadata": {},
   "source": [
    "### Filter by using PMC"
   ]
  },
  {
   "cell_type": "code",
   "execution_count": 57,
   "id": "5f7ee48c-35ce-4bc7-aa61-689c522e6c35",
   "metadata": {},
   "outputs": [
    {
     "name": "stdout",
     "output_type": "stream",
     "text": [
      "Matching XML file 'PMC176545.xml' copied to 'Extracted_XML'.\n",
      "Matching XML file 'PMC176546.xml' copied to 'Extracted_XML'.\n",
      "Matching XML file 'PMC176548.xml' copied to 'Extracted_XML'.\n"
     ]
    }
   ],
   "source": [
    "# Specify the path to the folder containing XML files\n",
    "xml_folder_path = 'All_Articles'\n",
    "\n",
    "# Specify the desired article IDs\n",
    "desired_article_ids = ['PMC176546', 'PMC176545', 'PMC176548']\n",
    "\n",
    "# Specify the output folder\n",
    "output_folder = 'Extracted_XML'\n",
    "\n",
    "# Create the output folder if it doesn't exist\n",
    "os.makedirs(output_folder, exist_ok=True)\n",
    "\n",
    "# Iterate over XML files in the folder\n",
    "for xml_file in os.listdir(xml_folder_path):\n",
    "    # Extract the basename (file name without extension)\n",
    "    file_basename = os.path.splitext(xml_file)[0]\n",
    "\n",
    "    # Check if the basename matches any of the desired article IDs\n",
    "    if file_basename in desired_article_ids:\n",
    "        # Build the paths for the source and destination\n",
    "        source_path = os.path.join(xml_folder_path, xml_file)\n",
    "        destination_path = os.path.join(output_folder, xml_file)\n",
    "\n",
    "        # Copy the matching XML file to the output folder\n",
    "        shutil.copy2(source_path, destination_path)\n",
    "\n",
    "        print(f\"Matching XML file '{xml_file}' copied to '{output_folder}'.\")"
   ]
  },
  {
   "cell_type": "markdown",
   "id": "3f283e09-d24e-4834-9da0-427fc0a3fbde",
   "metadata": {},
   "source": [
    "### Filter by using PubMed ID instead of PMC"
   ]
  },
  {
   "cell_type": "code",
   "execution_count": 5,
   "id": "17e95d76-20ca-4269-afe4-f8f4f129c8af",
   "metadata": {},
   "outputs": [
    {
     "name": "stdout",
     "output_type": "stream",
     "text": [
      "Selected articles saved to 'Extracted_Papers/selected_articles.xml'.\n"
     ]
    }
   ],
   "source": [
    "# Specify the path to the folder containing individual XML files\n",
    "input_folder_path = 'All_Articles\\PMC000xxxxxx'\n",
    "\n",
    "# Specify the list of desired pmids\n",
    "desired_pmids = [32111634, 32615090, 32859898, 32913197, 33259205, 32619440, 32823573, 32205883, 33382950, 33319778, \n",
    "                 33443161, 32703946, 31628411, 31857433, 30852164, 31519811, 30673913, 31578309, 31681563, 34946037, \n",
    "                 37938227, 34668583, 34944797, 34658896, 34739342, 33949105, 34001868, 34739338, 34857933, 33785070, \n",
    "                 33646117, 34694375, 33075129, 32776003, 32376096, 33240188, 31998276, 33260635, 32376073, 34694375, \n",
    "                 36332011, 33627512, 34039428, 34836426, 34806775, 34580292, 34580292, 34000281, 34282029, 34312385, \n",
    "                 33550886, 34777363, 33925452, 34885050, 37073345, 34339295, 34111652, 34021796, 34099917, 34847376, \n",
    "                 35475000, 34105518, 33137688, 34016512, 32622559, 34680258, 34616012, 34081399, 34158656, 33662870, \n",
    "                 34442780, 34646011, 34093985, 34043764, 34467251, 34767456, 33469015, 34115827, 33733474, 34946037, \n",
    "                 37938227, 34668583, 34944797, 34658896, 34739342, 33949105, 34001868, 34739338, 34857933, 33785070, \n",
    "                 33646117, 34694375, 33075129, 32776003, 32376096, 33240188, 31998276, 33260635, 32376073, 36771343]\n",
    "\n",
    "# Initialize an empty list to store selected articles\n",
    "selected_articles = []\n",
    "\n",
    "# Recursively iterate over XML files in the root and its subdirectories\n",
    "for root, dirs, files in os.walk(input_root_path):\n",
    "    for xml_file in files:\n",
    "        if xml_file.endswith('.xml'):\n",
    "            xml_file_path = os.path.join(root, xml_file)\n",
    "\n",
    "            # Parse the content of each XML file\n",
    "            tree = ET.parse(xml_file_path)\n",
    "\n",
    "            # Check if the PMID is in the list of desired pmids\n",
    "            pmid_element = tree.find('.//article-id[@pub-id-type=\"pmid\"]')\n",
    "            if pmid_element is not None and pmid_element.text in desired_pmids:\n",
    "                # Append the root of the XML document to the selected articles root\n",
    "                combined_root.extend(tree.getroot())\n",
    "\n",
    "# Create a new ElementTree with the selected articles as the root\n",
    "combined_tree = ET.ElementTree(ET.Element('CombinedRoot'))\n",
    "\n",
    "# Append selected articles to the new root element\n",
    "for article in selected_articles:\n",
    "    combined_tree.getroot().append(article)\n",
    "\n",
    "# Specify the output path for the selected articles XML file\n",
    "output_file_path = 'Extracted_Papers/selected_articles.xml'\n",
    "\n",
    "# Write the selected articles to the output file\n",
    "combined_tree.write(output_file_path, encoding='utf-8', xml_declaration=True)\n",
    "\n",
    "print(f\"Selected articles saved to '{output_file_path}'.\")"
   ]
  },
  {
   "cell_type": "code",
   "execution_count": null,
   "id": "1f633797-8a4a-4ce9-b68a-460d4d1fff8f",
   "metadata": {},
   "outputs": [],
   "source": []
  }
 ],
 "metadata": {
  "kernelspec": {
   "display_name": "Python 3 (ipykernel)",
   "language": "python",
   "name": "python3"
  },
  "language_info": {
   "codemirror_mode": {
    "name": "ipython",
    "version": 3
   },
   "file_extension": ".py",
   "mimetype": "text/x-python",
   "name": "python",
   "nbconvert_exporter": "python",
   "pygments_lexer": "ipython3",
   "version": "3.11.3"
  }
 },
 "nbformat": 4,
 "nbformat_minor": 5
}
