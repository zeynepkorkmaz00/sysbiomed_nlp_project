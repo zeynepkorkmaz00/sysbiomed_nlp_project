{
 "cells": [
  {
   "cell_type": "code",
   "execution_count": 56,
   "id": "6ee6a895-37d1-4c82-bc07-cd1d529d6a07",
   "metadata": {},
   "outputs": [],
   "source": [
    "# import xml.etree.ElementTree as ET\n",
    "import tarfile\n",
    "import os\n",
    "import shutil"
   ]
  },
  {
   "cell_type": "code",
   "execution_count": 6,
   "id": "dc5f0e14-5c6e-4b63-937d-e8b9246abee1",
   "metadata": {},
   "outputs": [],
   "source": [
    "def decompress_tar_gz(tar_gz_file, extraction_path):\n",
    "    with tarfile.open(tar_gz_file, 'r:gz') as tar:\n",
    "        tar.extractall(path=extraction_path)"
   ]
  },
  {
   "cell_type": "code",
   "execution_count": 20,
   "id": "3bced792-1355-4d6f-8779-c59da9651949",
   "metadata": {},
   "outputs": [],
   "source": [
    "# Example usage\n",
    "tar_gz_file_path = 'oa_comm_xml.PMC000xxxxxx.baseline.2023-12-18.tar.gz'\n",
    "\n",
    "# Create an \"Extracted_XML\" folder in the working directory\n",
    "output_folder = os.path.join(os.getcwd(), 'Extracted_XML')\n",
    "os.makedirs(output_folder, exist_ok=True)\n",
    "\n",
    "# Decompress the tar.gz file\n",
    "extraction_path = os.path.join(os.getcwd(), 'All_Articles')\n",
    "decompress_tar_gz(tar_gz_file_path, extraction_path)"
   ]
  },
  {
   "cell_type": "code",
   "execution_count": 57,
   "id": "5f7ee48c-35ce-4bc7-aa61-689c522e6c35",
   "metadata": {},
   "outputs": [
    {
     "name": "stdout",
     "output_type": "stream",
     "text": [
      "Matching XML file 'PMC176545.xml' copied to 'Extracted_XML'.\n",
      "Matching XML file 'PMC176546.xml' copied to 'Extracted_XML'.\n",
      "Matching XML file 'PMC176548.xml' copied to 'Extracted_XML'.\n"
     ]
    }
   ],
   "source": [
    "# Specify the path to the folder containing XML files\n",
    "xml_folder_path = 'All_Articles\\PMC000xxxxxx'\n",
    "\n",
    "# Specify the desired article IDs\n",
    "desired_article_ids = ['PMC176546', 'PMC176545', 'PMC176548']\n",
    "\n",
    "# Specify the output folder\n",
    "output_folder = 'Extracted_XML'\n",
    "\n",
    "# Create the output folder if it doesn't exist\n",
    "os.makedirs(output_folder, exist_ok=True)\n",
    "\n",
    "# Iterate over XML files in the folder\n",
    "for xml_file in os.listdir(xml_folder_path):\n",
    "    # Extract the basename (file name without extension)\n",
    "    file_basename = os.path.splitext(xml_file)[0]\n",
    "\n",
    "    # Check if the basename matches any of the desired article IDs\n",
    "    if file_basename in desired_article_ids:\n",
    "        # Build the paths for the source and destination\n",
    "        source_path = os.path.join(xml_folder_path, xml_file)\n",
    "        destination_path = os.path.join(output_folder, xml_file)\n",
    "\n",
    "        # Copy the matching XML file to the output folder\n",
    "        shutil.copy2(source_path, destination_path)\n",
    "\n",
    "        print(f\"Matching XML file '{xml_file}' copied to '{output_folder}'.\")"
   ]
  }
 ],
 "metadata": {
  "kernelspec": {
   "display_name": "Python 3 (ipykernel)",
   "language": "python",
   "name": "python3"
  },
  "language_info": {
   "codemirror_mode": {
    "name": "ipython",
    "version": 3
   },
   "file_extension": ".py",
   "mimetype": "text/x-python",
   "name": "python",
   "nbconvert_exporter": "python",
   "pygments_lexer": "ipython3",
   "version": "3.11.5"
  }
 },
 "nbformat": 4,
 "nbformat_minor": 5
}
