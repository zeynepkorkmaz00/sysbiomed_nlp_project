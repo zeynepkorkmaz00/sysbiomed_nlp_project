{
 "cells": [
  {
   "cell_type": "code",
   "execution_count": 3,
   "metadata": {},
   "outputs": [],
   "source": [
    "from Bio import Entrez\n",
    "import csv\n",
    "import os\n",
    "import xml.etree.ElementTree as ET\n",
    "import copy"
   ]
  },
  {
   "cell_type": "code",
   "execution_count": 4,
   "metadata": {},
   "outputs": [],
   "source": [
    "# Change working directory\n",
    "os.chdir(\"/Users/tillohlendorf/Documents/MBT/Module/Systems BioMedicine/NLP/TFA_repo/sysbiomed_nlp_project/Till\")"
   ]
  },
  {
   "cell_type": "code",
   "execution_count": 32,
   "metadata": {},
   "outputs": [],
   "source": [
    "def extract_xml_files(input_list_pmids,input_list_pmcids, input_dir, output_file):\n",
    "    CRC_root = ET.Element(\"CRC_articles\")\n",
    "    for subdir, dirs, files in os.walk(input_dir):\n",
    "        for file in files:\n",
    "            if file.endswith('.xml'):\n",
    "                xml_file_path = subdir + os.sep + file\n",
    "                try:\n",
    "                    tree = ET.parse(xml_file_path)\n",
    "                    root = tree.getroot()\n",
    "                    root_copy = copy.deepcopy(root)\n",
    "                    for element in root_copy.iter('article-id'):\n",
    "                        if (element.attrib.get('pub-id-type') == 'pmid' and element.text in input_list_pmids) or (element.attrib.get('pub-id-type') == 'pmc' and element.text in input_list_pmcids):\n",
    "                            CRC_root.append(root_copy)\n",
    "                            break  # Break the loop once a valid 'article-id' is found\n",
    "                    else:\n",
    "                        print(f\"Skipping file {xml_file_path} due to PMID not in list\")\n",
    "                except ET.ParseError:\n",
    "                    print(f\"Skipping file {xml_file_path} due to parse error\")\n",
    "    CRC_tree = ET.ElementTree(CRC_root)\n",
    "    CRC_tree.write(output_file, encoding='utf-8')"
   ]
  },
  {
   "cell_type": "code",
   "execution_count": 31,
   "metadata": {},
   "outputs": [],
   "source": [
    "pmc_ids_Till = [\"PMC7569388\", \"PMC7456324\", \"PMC7484793\", \"PMC9558369\", \"PMC7460440\", \"PMC7781625\", \"PMC7738495\", \"PMC7817203\", \"PMC7378201\", \"PMC6800427\", \"PMC7456744\", \"PMC6444128\", \"PMC6344609\", \"PMC6795496\", \"PMC6797844\", \"PMC8008609\", \"PMC7946422\", \"PMC8586732\", \"PMC7868734\", \"PMC7393571\", \"PMC7677513\", \"PMC6965490\", \"PMC7730263\", \"PMC7546531\", \"PMC6538646\", \"PMC6692052\", ]\n",
    "pmc_ids_Zeynep = [\"PMC8989999\", \"PMC7612546\", \"PMC8103097\", \"PMC8128913\", \"PMC8514721\", \"PMC8678303\", \"PMC8699173\", \"PMC8708753\", \"PMC8777002\", \"PMC8778376\", \"PMC8855857\", \"PMC8915975\", \"PMC8941000\", \"PMC9031264\", \"PMC9081902\", \"PMC9100044\", \"PMC9103485\", \"PMC9105816\", \"PMC9213371\", \"PMC9259489\", \"PMC9259500\", \"PMC9319092\", \"PMC9320355\",\"PMC9332067\", \"PMC9383973\", \"PMC9391071\", \"PMC9484756\", \"PMC9504724\", \"PMC9568547\", \"PMC9632171\", \"PMC9723555\"]\n",
    "pmc_ids_Sabrina = [\"PMC9921660\", \"PMC9900325\" ,\"PMC10025556\", \"PMC9934417\", \"PMC10096730\", \"PMC9966613\", \"PMC10063449\", \"PMC10110899\", \"PMC10064692\", \"PMC9992512\", \"PMC9207268\", \"PMC9672454\", \"PMC9361767\", \"PMC8586732\", \"PMC8544895\", \"PMC8157445\", \"PMC8621464\", \"PMC9011687\", \"PMC7612573\", \"PMC8313584\", \"PMC7889221\", \"PMC8588834\", \"PMC8145447\", \"PMC8656578\", \"PMC10077291\", \"PMC8459765\", \"PMC7611097\", \"PMC9017205\", \"PMC8533893\", \"PMC8651779\", \"PMC8313253\", \"PMC8401523\", \"PMC7612847\", \"PMC8131268\"]\n",
    "\n"
   ]
  },
  {
   "cell_type": "code",
   "execution_count": 33,
   "metadata": {},
   "outputs": [],
   "source": [
    "input_list_pmids = ['32111634', '32615090', '32859898', '32913197', '33259205', '32619440', '32823573', '32205883', '33382950', '33319778', '33443161', '32703946', '31628411', '31857433', '30852164', '31519811', '30673913', '31578309', '31681563', '34946037', '37938227', '34668583', '34944797', '34658896', '34739342', '33949105', '34001868', '34739338', '34857933', '33785070', '33646117', '34694375', '33075129', '32776003', '32376096', '33240188', '31998276', '33260635', '32376073', '34694375', '36332011', '33627512', '34039428', '34836426', '34806775', '34580292', '34580292', '34000281', '34282029', '34312385', '33550886', '34777363', '33925452', '34885050', '37073345', '34339295', '34111652', '34021796', '34099917', '34847376', '35475000', '34105518', '33137688', '34016512', '32622559', '34680258', '34616012', '34081399', '34158656', '33662870', '34442780', '34646011', '34093985', '34043764', '34467251', '34767456', '33469015', '34115827', '33733474', '34946037', '37938227', '34668583', '34944797', '34658896', '34739342', '33949105', '34001868', '34739338', '34857933', '33785070', '33646117', '34694375', '33075129', '32776003', '32376096', '33240188', '31998276', '33260635', '32376073', '36771343', '36622087', '36950387', '36795699', '37049583', '36851429', '36914891', '37918887', '37081886', '37004103', '36797499', '35734174', '35015907', '35939623', '35393532', '35840661', '35459547', '35893909', '34927460', '35917163', '35086950', '35122074', '34774804', '36223724', '35572572', '35565377', '35888707', '36081215', '36241650', '36067550', '35672519', '35288718', '36587707', '35990627']\n",
    "input_list_pmcids = pmc_ids_Till + pmc_ids_Zeynep + pmc_ids_Sabrina\n",
    "#input_dir = '/Users/tillohlendorf/Downloads/PMC010xxxxxx'\n",
    "input_dir = '/Users/tillohlendorf/Downloads/Extracted_XML'\n",
    "output_file = f'{os.path.join(os.getcwd(), \"CRC_base_papers_Extracted_XML.xml\")}'\n",
    "\n",
    "\n",
    "extract_xml_files(input_list_pmids, input_list_pmcids, input_dir, output_file )"
   ]
  }
 ],
 "metadata": {
  "kernelspec": {
   "display_name": "NLPforCRC",
   "language": "python",
   "name": "python3"
  },
  "language_info": {
   "codemirror_mode": {
    "name": "ipython",
    "version": 3
   },
   "file_extension": ".py",
   "mimetype": "text/x-python",
   "name": "python",
   "nbconvert_exporter": "python",
   "pygments_lexer": "ipython3",
   "version": "3.12.0"
  }
 },
 "nbformat": 4,
 "nbformat_minor": 2
}
