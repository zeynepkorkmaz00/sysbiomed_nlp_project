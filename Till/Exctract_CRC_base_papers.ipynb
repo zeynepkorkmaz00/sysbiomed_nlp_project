{
 "cells": [
  {
   "cell_type": "code",
   "execution_count": 3,
   "metadata": {},
   "outputs": [],
   "source": [
    "from Bio import Entrez\n",
    "import csv\n",
    "import os\n",
    "import xml.etree.ElementTree as ET\n",
    "import copy"
   ]
  },
  {
   "cell_type": "code",
   "execution_count": 5,
   "metadata": {},
   "outputs": [],
   "source": [
    "\n",
    "def extract_xml_files(input_list, input_dir, output_file):\n",
    "    \n",
    "\n",
    "    with open(output_file, 'wb') as f:\n",
    "        f.write(b'<root>\\n')\n",
    "        CRC_root = ET.Element('CRC_base_papers')\n",
    "\n",
    "        for root_dir, dirs, files in os.walk(input_dir):\n",
    "            for xml_file in files:\n",
    "                if xml_file.endswith('.xml'):\n",
    "                    xml_file_path = os.path.join(root_dir, xml_file)\n",
    "                    \n",
    "                    try:\n",
    "                        tree = ET.parse(xml_file_path)\n",
    "                    except ET.ParseError:\n",
    "                        print(f\"Skipping file due to ParseError: {xml_file_path}\")\n",
    "                        continue\n",
    "\n",
    "                    root = tree.getroot()\n",
    "                    root_copy = copy.deepcopy(root)\n",
    "\n",
    "                    for element in root_copy.iter('article-id'):\n",
    "                        if element.attrib.get('pub-id-type') == 'pmid' and element.text in input_list:\n",
    "                            CRC_root.append(root_copy)\n",
    "\n",
    "        f.write(ET.tostring(CRC_root, encoding='utf-8'))\n",
    "\n",
    "        f.write(b'</root>')"
   ]
  },
  {
   "cell_type": "code",
   "execution_count": 10,
   "metadata": {},
   "outputs": [],
   "source": [
    "input_list = ['32111634', '32615090', '32859898', '32913197', '33259205', '32619440', '32823573', '32205883', '33382950', '33319778', '33443161', '32703946', '31628411', '31857433', '30852164', '31519811', '30673913', '31578309', '31681563', '34946037', '37938227', '34668583', '34944797', '34658896', '34739342', '33949105', '34001868', '34739338', '34857933', '33785070', '33646117', '34694375', '33075129', '32776003', '32376096', '33240188', '31998276', '33260635', '32376073', '34694375', '36332011', '33627512', '34039428', '34836426', '34806775', '34580292', '34580292', '34000281', '34282029', '34312385', '33550886', '34777363', '33925452', '34885050', '37073345', '34339295', '34111652', '34021796', '34099917', '34847376', '35475000', '34105518', '33137688', '34016512', '32622559', '34680258', '34616012', '34081399', '34158656', '33662870', '34442780', '34646011', '34093985', '34043764', '34467251', '34767456', '33469015', '34115827', '33733474', '34946037', '37938227', '34668583', '34944797', '34658896', '34739342', '33949105', '34001868', '34739338', '34857933', '33785070', '33646117', '34694375', '33075129', '32776003', '32376096', '33240188', '31998276', '33260635', '32376073', '36771343', '36622087', '36950387', '36795699', '37049583', '36851429', '36914891', '37918887', '37081886', '37004103', '36797499', '35734174', '35015907', '35939623', '35393532', '35840661', '35459547', '35893909', '34927460', '35917163', '35086950', '35122074', '34774804', '36223724', '35572572', '35565377', '35888707', '36081215', '36241650', '36067550', '35672519', '35288718', '36587707', '35990627']\n",
    "input_dir = '/Users/tillohlendorf/Downloads/PMC010xxxxxx'\n",
    "output_file = f'{os.path.join(os.getcwd(), \"CRC_base_papers.xml\")}'\n",
    "\n",
    "\n",
    "extract_xml_files(input_list, input_dir, output_file )"
   ]
  },
  {
   "cell_type": "code",
   "execution_count": 9,
   "metadata": {},
   "outputs": [
    {
     "name": "stdout",
     "output_type": "stream",
     "text": [
      "/Users/tillohlendorf/Documents/MBT/Module/Systems BioMedicine/NLP/TFA_repo/sysbiomed_nlp_project/CRC_base_papers.xml\n"
     ]
    }
   ],
   "source": [
    "print(f'{os.path.join(os.getcwd(), \"CRC_base_papers_PMC10.xml\")}')"
   ]
  }
 ],
 "metadata": {
  "kernelspec": {
   "display_name": "NLPforCRC",
   "language": "python",
   "name": "python3"
  },
  "language_info": {
   "codemirror_mode": {
    "name": "ipython",
    "version": 3
   },
   "file_extension": ".py",
   "mimetype": "text/x-python",
   "name": "python",
   "nbconvert_exporter": "python",
   "pygments_lexer": "ipython3",
   "version": "3.12.0"
  }
 },
 "nbformat": 4,
 "nbformat_minor": 2
}
