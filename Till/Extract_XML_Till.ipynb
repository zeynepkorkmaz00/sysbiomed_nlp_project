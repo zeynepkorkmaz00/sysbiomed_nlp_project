{
 "cells": [
  {
   "cell_type": "code",
   "execution_count": 10,
   "id": "6ee6a895-37d1-4c82-bc07-cd1d529d6a07",
   "metadata": {},
   "outputs": [],
   "source": [
    "# import xml.etree.ElementTree as ET\n",
    "import tarfile\n",
    "import os\n",
    "import shutil"
   ]
  },
  {
   "cell_type": "code",
   "execution_count": 15,
   "id": "dc5f0e14-5c6e-4b63-937d-e8b9246abee1",
   "metadata": {},
   "outputs": [],
   "source": [
    "# Decompress a tar.gz files\n",
    "def decompress_tar_gz(tar_gz_file, extraction_path):\n",
    "    with tarfile.open(tar_gz_file, 'r:gz') as tar:\n",
    "        tar.extractall(path=extraction_path)"
   ]
  },
  {
   "cell_type": "code",
   "execution_count": 16,
   "id": "3bced792-1355-4d6f-8779-c59da9651949",
   "metadata": {},
   "outputs": [],
   "source": [
    "# Example usage\n",
    "tar_gz_file_path = '/Users/tillohlendorf/Downloads/oa_comm_xml.PMC008xxxxxx.baseline.2023-12-18.tar.gz'\n",
    "\n",
    "# Create an \"Extracted_XML\" folder in the working directory\n",
    "#output_folder = os.path.join(, 'Extracted_XML')\n",
    "#os.makedirs(output_folder, exist_ok=True)\n",
    "\n",
    "# Decompress the tar.gz file\n",
    "#extraction_path = os.path.join(os.getcwd(), 'All_Articles')\n",
    "decompress_tar_gz(tar_gz_file_path, extraction_path)"
   ]
  },
  {
   "cell_type": "code",
   "execution_count": 33,
   "id": "8e4eeab7",
   "metadata": {},
   "outputs": [
    {
     "name": "stdout",
     "output_type": "stream",
     "text": [
      "Matching XML file 'PMC7677513.xml' copied to '/Users/tillohlendorf/Downloads/Extracted_XML'.\n",
      "Matching XML file 'PMC9100044.xml' copied to '/Users/tillohlendorf/Downloads/Extracted_XML'.\n",
      "Matching XML file 'PMC8855857.xml' copied to '/Users/tillohlendorf/Downloads/Extracted_XML'.\n",
      "Matching XML file 'PMC10096730.xml' copied to '/Users/tillohlendorf/Downloads/Extracted_XML'.\n",
      "Matching XML file 'PMC9332067.xml' copied to '/Users/tillohlendorf/Downloads/Extracted_XML'.\n",
      "Matching XML file 'PMC8941000.xml' copied to '/Users/tillohlendorf/Downloads/Extracted_XML'.\n",
      "Matching XML file 'PMC7730263.xml' copied to '/Users/tillohlendorf/Downloads/Extracted_XML'.\n",
      "Matching XML file 'PMC8313584.xml' copied to '/Users/tillohlendorf/Downloads/Extracted_XML'.\n",
      "Matching XML file 'PMC9934417.xml' copied to '/Users/tillohlendorf/Downloads/Extracted_XML'.\n",
      "Matching XML file 'PMC8401523.xml' copied to '/Users/tillohlendorf/Downloads/Extracted_XML'.\n",
      "Matching XML file 'PMC9031264.xml' copied to '/Users/tillohlendorf/Downloads/Extracted_XML'.\n",
      "Matching XML file 'PMC7378201.xml' copied to '/Users/tillohlendorf/Downloads/Extracted_XML'.\n",
      "Matching XML file 'PMC9361767.xml' copied to '/Users/tillohlendorf/Downloads/Extracted_XML'.\n",
      "Matching XML file 'PMC8621464.xml' copied to '/Users/tillohlendorf/Downloads/Extracted_XML'.\n",
      "Matching XML file 'PMC8708753.xml' copied to '/Users/tillohlendorf/Downloads/Extracted_XML'.\n",
      "Matching XML file 'PMC7484793.xml' copied to '/Users/tillohlendorf/Downloads/Extracted_XML'.\n",
      "Matching XML file 'PMC8651779.xml' copied to '/Users/tillohlendorf/Downloads/Extracted_XML'.\n",
      "Matching XML file 'PMC10077291.xml' copied to '/Users/tillohlendorf/Downloads/Extracted_XML'.\n",
      "Matching XML file 'PMC6800427.xml' copied to '/Users/tillohlendorf/Downloads/Extracted_XML'.\n",
      "Matching XML file 'PMC10110899.xml' copied to '/Users/tillohlendorf/Downloads/Extracted_XML'.\n",
      "Matching XML file 'PMC8157445.xml' copied to '/Users/tillohlendorf/Downloads/Extracted_XML'.\n",
      "Matching XML file 'PMC8699173.xml' copied to '/Users/tillohlendorf/Downloads/Extracted_XML'.\n",
      "Matching XML file 'PMC6965490.xml' copied to '/Users/tillohlendorf/Downloads/Extracted_XML'.\n",
      "Matching XML file 'PMC6538646.xml' copied to '/Users/tillohlendorf/Downloads/Extracted_XML'.\n",
      "Matching XML file 'PMC8145447.xml' copied to '/Users/tillohlendorf/Downloads/Extracted_XML'.\n",
      "Matching XML file 'PMC9207268.xml' copied to '/Users/tillohlendorf/Downloads/Extracted_XML'.\n",
      "Matching XML file 'PMC8128913.xml' copied to '/Users/tillohlendorf/Downloads/Extracted_XML'.\n",
      "Matching XML file 'PMC8008609.xml' copied to '/Users/tillohlendorf/Downloads/Extracted_XML'.\n",
      "Matching XML file 'PMC9992512.xml' copied to '/Users/tillohlendorf/Downloads/Extracted_XML'.\n",
      "Matching XML file 'PMC9568547.xml' copied to '/Users/tillohlendorf/Downloads/Extracted_XML'.\n",
      "Matching XML file 'PMC9259489.xml' copied to '/Users/tillohlendorf/Downloads/Extracted_XML'.\n",
      "Matching XML file 'PMC8588834.xml' copied to '/Users/tillohlendorf/Downloads/Extracted_XML'.\n",
      "Matching XML file 'PMC8989999.xml' copied to '/Users/tillohlendorf/Downloads/Extracted_XML'.\n",
      "Matching XML file 'PMC9259500.xml' copied to '/Users/tillohlendorf/Downloads/Extracted_XML'.\n",
      "Matching XML file 'PMC8778376.xml' copied to '/Users/tillohlendorf/Downloads/Extracted_XML'.\n",
      "Matching XML file 'PMC9319092.xml' copied to '/Users/tillohlendorf/Downloads/Extracted_XML'.\n",
      "Matching XML file 'PMC9017205.xml' copied to '/Users/tillohlendorf/Downloads/Extracted_XML'.\n",
      "Matching XML file 'PMC9103485.xml' copied to '/Users/tillohlendorf/Downloads/Extracted_XML'.\n",
      "Matching XML file 'PMC10064692.xml' copied to '/Users/tillohlendorf/Downloads/Extracted_XML'.\n",
      "Matching XML file 'PMC9105816.xml' copied to '/Users/tillohlendorf/Downloads/Extracted_XML'.\n",
      "Matching XML file 'PMC9921660.xml' copied to '/Users/tillohlendorf/Downloads/Extracted_XML'.\n",
      "Matching XML file 'PMC9081902.xml' copied to '/Users/tillohlendorf/Downloads/Extracted_XML'.\n",
      "Matching XML file 'PMC9632171.xml' copied to '/Users/tillohlendorf/Downloads/Extracted_XML'.\n",
      "Matching XML file 'PMC7738495.xml' copied to '/Users/tillohlendorf/Downloads/Extracted_XML'.\n",
      "Matching XML file 'PMC9504724.xml' copied to '/Users/tillohlendorf/Downloads/Extracted_XML'.\n",
      "Matching XML file 'PMC7868734.xml' copied to '/Users/tillohlendorf/Downloads/Extracted_XML'.\n",
      "Matching XML file 'PMC9213371.xml' copied to '/Users/tillohlendorf/Downloads/Extracted_XML'.\n",
      "Matching XML file 'PMC7460440.xml' copied to '/Users/tillohlendorf/Downloads/Extracted_XML'.\n",
      "Matching XML file 'PMC10063449.xml' copied to '/Users/tillohlendorf/Downloads/Extracted_XML'.\n",
      "Matching XML file 'PMC8131268.xml' copied to '/Users/tillohlendorf/Downloads/Extracted_XML'.\n",
      "Matching XML file 'PMC8533893.xml' copied to '/Users/tillohlendorf/Downloads/Extracted_XML'.\n",
      "Matching XML file 'PMC9320355.xml' copied to '/Users/tillohlendorf/Downloads/Extracted_XML'.\n",
      "Matching XML file 'PMC7456324.xml' copied to '/Users/tillohlendorf/Downloads/Extracted_XML'.\n",
      "Matching XML file 'PMC10025556.xml' copied to '/Users/tillohlendorf/Downloads/Extracted_XML'.\n",
      "Matching XML file 'PMC6692052.xml' copied to '/Users/tillohlendorf/Downloads/Extracted_XML'.\n",
      "Matching XML file 'PMC9484756.xml' copied to '/Users/tillohlendorf/Downloads/Extracted_XML'.\n",
      "Matching XML file 'PMC6344609.xml' copied to '/Users/tillohlendorf/Downloads/Extracted_XML'.\n",
      "Matching XML file 'PMC9672454.xml' copied to '/Users/tillohlendorf/Downloads/Extracted_XML'.\n",
      "Matching XML file 'PMC7889221.xml' copied to '/Users/tillohlendorf/Downloads/Extracted_XML'.\n",
      "Matching XML file 'PMC8544895.xml' copied to '/Users/tillohlendorf/Downloads/Extracted_XML'.\n",
      "Matching XML file 'PMC8103097.xml' copied to '/Users/tillohlendorf/Downloads/Extracted_XML'.\n",
      "Matching XML file 'PMC8514721.xml' copied to '/Users/tillohlendorf/Downloads/Extracted_XML'.\n",
      "Matching XML file 'PMC8656578.xml' copied to '/Users/tillohlendorf/Downloads/Extracted_XML'.\n",
      "Matching XML file 'PMC6797844.xml' copied to '/Users/tillohlendorf/Downloads/Extracted_XML'.\n",
      "Matching XML file 'PMC9723555.xml' copied to '/Users/tillohlendorf/Downloads/Extracted_XML'.\n",
      "Matching XML file 'PMC9966613.xml' copied to '/Users/tillohlendorf/Downloads/Extracted_XML'.\n",
      "Matching XML file 'PMC9391071.xml' copied to '/Users/tillohlendorf/Downloads/Extracted_XML'.\n"
     ]
    }
   ],
   "source": [
    "# Exctraction of the XML files\n",
    "\n",
    "# Specify the path to the folder containing XML files\n",
    "xml_folder_path = '/Users/tillohlendorf/Downloads/All_Papers'\n",
    "\n",
    "# Specify the desired article PMC IDs\n",
    "pmc_ids_Till = [\"PMC7569388\", \"PMC7456324\", \"PMC7484793\", \"PMC9558369\", \"PMC7460440\", \"PMC7781625\", \"PMC7738495\", \"PMC7817203\", \"PMC7378201\", \"PMC6800427\", \"PMC7456744\", \"PMC6444128\", \"PMC6344609\", \"PMC6795496\", \"PMC6797844\", \"PMC8008609\", \"PMC7946422\", \"PMC8586732\", \"PMC7868734\", \"PMC7393571\", \"PMC7677513\", \"PMC6965490\", \"PMC7730263\", \"PMC7546531\", \"PMC6538646\", \"PMC6692052\", ]\n",
    "pmc_ids_Zeynep = [\"PMC8989999\", \"PMC7612546\", \"PMC8103097\", \"PMC8128913\", \"PMC8514721\", \"PMC8678303\", \"PMC8699173\", \"PMC8708753\", \"PMC8777002\", \"PMC8778376\", \"PMC8855857\", \"PMC8915975\", \"PMC8941000\", \"PMC9031264\", \"PMC9081902\", \"PMC9100044\", \"PMC9103485\", \"PMC9105816\", \"PMC9213371\", \"PMC9259489\", \"PMC9259500\", \"PMC9319092\", \"PMC9320355\",\"PMC9332067\", \"PMC9383973\", \"PMC9391071\", \"PMC9484756\", \"PMC9504724\", \"PMC9568547\", \"PMC9632171\", \"PMC9723555\"]\n",
    "pmc_ids_Sabrina = [\"PMC9921660\", \"PMC9900325\" ,\"PMC10025556\", \"PMC9934417\", \"PMC10096730\", \"PMC9966613\", \"PMC10063449\", \"PMC10110899\", \"PMC10064692\", \"PMC9992512\", \"PMC9207268\", \"PMC9672454\", \"PMC9361767\", \"PMC8586732\", \"PMC8544895\", \"PMC8157445\", \"PMC8621464\", \"PMC9011687\", \"PMC7612573\", \"PMC8313584\", \"PMC7889221\", \"PMC8588834\", \"PMC8145447\", \"PMC8656578\", \"PMC10077291\", \"PMC8459765\", \"PMC7611097\", \"PMC9017205\", \"PMC8533893\", \"PMC8651779\", \"PMC8313253\", \"PMC8401523\", \"PMC7612847\", \"PMC8131268\"]\n",
    "\n",
    "desired_article_ids = pmc_ids_Till + pmc_ids_Zeynep + pmc_ids_Sabrina\n",
    "\n",
    "# Specify the output folder\n",
    "output_folder = '/Users/tillohlendorf/Downloads/Extracted_XML'\n",
    "\n",
    "# List of XML files that match the desired article IDs\n",
    "matched_xml_files = []\n",
    "\n",
    "# Iterate over all files in the directory including all the subdirectories\n",
    "for root, dirs, files in os.walk(xml_folder_path):\n",
    "    for xml_file in files:\n",
    "        \n",
    "        # Extract the basename (file name without extension)\n",
    "        file_basename = os.path.splitext(xml_file)[0]\n",
    "        matched_xml_files.append(file_basename)\n",
    "        # Check if the basename matches any of the desired article IDs\n",
    "        if file_basename in desired_article_ids:\n",
    "            # Build the paths for the source and destination\n",
    "            source_path = os.path.join(root, xml_file)\n",
    "            destination_path = os.path.join(output_folder, xml_file)\n",
    "\n",
    "            # Copy the matching XML file to the output folder\n",
    "            shutil.copy2(source_path, destination_path)\n",
    "\n",
    "            print(f\"Matching XML file '{xml_file}' copied to '{output_folder}'.\")"
   ]
  },
  {
   "cell_type": "code",
   "execution_count": 35,
   "id": "656f8de3",
   "metadata": {},
   "outputs": [
    {
     "name": "stdout",
     "output_type": "stream",
     "text": [
      "['PMC6444128', 'PMC6795496', 'PMC7393571', 'PMC7456744', 'PMC7546531', 'PMC7569388', 'PMC7611097', 'PMC7612546', 'PMC7612573', 'PMC7612847', 'PMC7781625', 'PMC7817203', 'PMC7946422', 'PMC8313253', 'PMC8459765', 'PMC8586732', 'PMC8586732', 'PMC8678303', 'PMC8777002', 'PMC8915975', 'PMC9011687', 'PMC9383973', 'PMC9558369', 'PMC9900325']\n"
     ]
    }
   ],
   "source": [
    "# Determine the PMC IDs of XML files which were not found in the searched directories\n",
    "missing_xml_files = [item for item in desired_article_ids if item not in matched_xml_files]\n",
    "missing_xml_files.sort()\n",
    "print(missing_xml_files)"
   ]
  }
 ],
 "metadata": {
  "kernelspec": {
   "display_name": "Python 3 (ipykernel)",
   "language": "python",
   "name": "python3"
  },
  "language_info": {
   "codemirror_mode": {
    "name": "ipython",
    "version": 3
   },
   "file_extension": ".py",
   "mimetype": "text/x-python",
   "name": "python",
   "nbconvert_exporter": "python",
   "pygments_lexer": "ipython3",
   "version": "3.12.0"
  }
 },
 "nbformat": 4,
 "nbformat_minor": 5
}
