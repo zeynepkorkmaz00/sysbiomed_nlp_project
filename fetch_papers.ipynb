{
 "cells": [
  {
   "attachments": {},
   "cell_type": "markdown",
   "id": "0eecf537",
   "metadata": {},
   "source": [
    "## Task Force A: Fetching PubMed ID's from queries"
   ]
  },
  {
   "cell_type": "code",
   "execution_count": 33,
   "id": "d4a7156b-9cd4-4efe-b85d-4b749fe282d9",
   "metadata": {},
   "outputs": [],
   "source": [
    "from Bio import Entrez\n",
    "import csv"
   ]
  },
  {
   "attachments": {},
   "cell_type": "markdown",
   "id": "e0364d44",
   "metadata": {},
   "source": [
    "### Step 1: Make function to search for papers and return their PubMED IDs"
   ]
  },
  {
   "cell_type": "code",
   "execution_count": 34,
   "id": "d0f0ea5b-bc9c-4d47-9004-5d9162f42c81",
   "metadata": {},
   "outputs": [],
   "source": [
    "def search_pubmed_for_ids(query, max_results=5):\n",
    "    Entrez.email = \"zeynep.korkmaz@tum.de\"  # Set email address\n",
    "\n",
    "    handle = Entrez.esearch(db=\"pubmed\", term=query, retmax=max_results)\n",
    "    record = Entrez.read(handle)\n",
    "    handle.close()\n",
    "\n",
    "    return record[\"IdList\"]"
   ]
  },
  {
   "cell_type": "code",
   "execution_count": 47,
   "id": "4e57ce8c-568b-4620-ae01-035fa2a54bd1",
   "metadata": {},
   "outputs": [
    {
     "data": {
      "text/plain": [
       "['38110964', '38078699', '38069446', '38068850', '38039189']"
      ]
     },
     "execution_count": 47,
     "metadata": {},
     "output_type": "execute_result"
    }
   ],
   "source": [
    "# Example query\n",
    "search_pubmed_for_ids(\"ibd AND acid stress\")"
   ]
  },
  {
   "attachments": {},
   "cell_type": "markdown",
   "id": "ff1f206f",
   "metadata": {},
   "source": [
    "### Step 2: Create the keyword and query list from the csv file"
   ]
  },
  {
   "cell_type": "code",
   "execution_count": 36,
   "id": "6ac8de1f-c40e-4d8d-9cb1-80372218d7da",
   "metadata": {},
   "outputs": [],
   "source": [
    "def read_keywords_from_csv(csv_file):\n",
    "    with open(csv_file, 'r') as file:\n",
    "        reader = csv.reader(file)\n",
    "\n",
    "        keywords_dict = {}\n",
    "        \n",
    "        current_pub_title = None\n",
    "        current_keywords = []\n",
    "        current_sq_tp = []\n",
    "        current_sq_fp = []\n",
    "        current_sq_r = []\n",
    "\n",
    "        for row in reader:\n",
    "            \n",
    "            # Remove trailing commas from each element in the row\n",
    "            row = [item.strip(', ') for item in row]\n",
    "            \n",
    "            if row and not row[0].isdigit():  # Skip numeric rows\n",
    "                if row[0] == \"Pub Title\":\n",
    "                    if current_pub_title:\n",
    "                        # create for every title/DOI keys\n",
    "                        keywords_dict[current_pub_title] = {\n",
    "                            \"Pub Title\": current_pub_title,\n",
    "                            \"Keywords\": current_keywords,\n",
    "                            \"SQ_TP\": current_sq_tp,\n",
    "                            \"SQ_FP\": current_sq_fp,\n",
    "                            \"SQ_R\": current_sq_r\n",
    "                        }\n",
    "                    current_pub_title = row[1]\n",
    "                    current_keywords = []\n",
    "                    current_sq_tp = []\n",
    "                    current_sq_fp = []\n",
    "                    current_sq_r = []\n",
    "                    # add values to list of the different keys and check for empty entries\n",
    "                elif row[0] == \"Keywords\":\n",
    "                    current_keywords.extend(item for item in row[1:] if item)\n",
    "                elif row[0] == \"SQ_TP\":\n",
    "                    current_sq_tp.extend(item for item in row[1:] if item)\n",
    "                elif row[0] == \"SQ_FP\":\n",
    "                    current_sq_fp.extend(item for item in row[1:] if item)\n",
    "                elif row[0] == \"SQ_R\":\n",
    "                    current_sq_r.extend(item for item in row[1:] if item)\n",
    "\n",
    "        # Add the last entry\n",
    "        if current_pub_title:\n",
    "            keywords_dict[current_pub_title] = {\n",
    "                \"Pub Title\": current_pub_title,\n",
    "                \"Keywords\": current_keywords,\n",
    "                \"SQ_TP\": current_sq_tp,\n",
    "                \"SQ_FP\": current_sq_fp,\n",
    "                \"SQ_R\": current_sq_r\n",
    "            }\n",
    "\n",
    "    return keywords_dict"
   ]
  },
  {
   "attachments": {},
   "cell_type": "markdown",
   "id": "5294cd74",
   "metadata": {},
   "source": [
    "##### How the dictionary looks:"
   ]
  },
  {
   "cell_type": "code",
   "execution_count": 45,
   "id": "a6a5a61b-957a-42a3-9f77-b9156e9b2092",
   "metadata": {},
   "outputs": [],
   "source": [
    "# save csv file\n",
    "input_csv = \"/Users/zeynepkorkmaz/Downloads/keywords.csv\" "
   ]
  },
  {
   "cell_type": "code",
   "execution_count": 46,
   "id": "8f3bfd93-c061-4bf0-9189-97a863893ef9",
   "metadata": {},
   "outputs": [],
   "source": [
    "# create dictionary from csv\n",
    "keywords_dict = read_keywords_from_csv(input_csv)"
   ]
  },
  {
   "cell_type": "code",
   "execution_count": 39,
   "id": "fe15070d-f5e6-4db9-9f66-2a066a8b3b0b",
   "metadata": {},
   "outputs": [
    {
     "data": {
      "text/plain": [
       "{'https://dx.doi.org/10.1016/j.jhep.2022.12.028': {'Pub Title': 'https://dx.doi.org/10.1016/j.jhep.2022.12.028',\n",
       "  'Keywords': ['keyword1', 'keyword2', 'keyword3'],\n",
       "  'SQ_TP': ['ibd AND acid stress', 'E.coli AND ibd'],\n",
       "  'SQ_FP': ['acid resistance NOT ibd', 'E.coli NOT ibd'],\n",
       "  'SQ_R': ['inflammatory AND acid stress', 'E.coli AND inflammatory']},\n",
       " 'https://dx.doi.org/10.1016/j.chom.2022.09.011': {'Pub Title': 'https://dx.doi.org/10.1016/j.chom.2022.09.011',\n",
       "  'Keywords': [],\n",
       "  'SQ_TP': ['ibd AND acid stress', 'E.coli AND ibd'],\n",
       "  'SQ_FP': ['cripspr AND ibd NOT microbiome',\n",
       "   'in vivo screening AND ibd NOT microbiome',\n",
       "   'mouse AND ibd NOT microbiome'],\n",
       "  'SQ_R': ['inflammatory AND acid stress', 'E.coli AND inflammatory']},\n",
       " 'https://dx.doi.org/10.1080/19490976.2022.2107386': {'Pub Title': 'https://dx.doi.org/10.1080/19490976.2022.2107386',\n",
       "  'Keywords': ['keyword1', 'keyword2'],\n",
       "  'SQ_TP': [],\n",
       "  'SQ_FP': ['Glycolipids AND ibd AND microbiome',\n",
       "   'a-Gal syndrome  AND ibd AND microbiome',\n",
       "   'red meat allergy  AND ibd AND microbiome'],\n",
       "  'SQ_R': ['glycolipids AND gastrointestinal',\n",
       "   'alpha-gal AND gastrointestinal',\n",
       "   'red meat AND gastrointestinal']}}"
      ]
     },
     "execution_count": 39,
     "metadata": {},
     "output_type": "execute_result"
    }
   ],
   "source": [
    "# print dictionary\n",
    "keywords_dict"
   ]
  },
  {
   "attachments": {},
   "cell_type": "markdown",
   "id": "f115afb1",
   "metadata": {},
   "source": [
    "##### Other representation of the dictionary for testing and debugging purposes"
   ]
  },
  {
   "cell_type": "code",
   "execution_count": 40,
   "id": "75bcfaa5-f3d6-4a2b-8766-3f72fd31b46a",
   "metadata": {},
   "outputs": [
    {
     "name": "stdout",
     "output_type": "stream",
     "text": [
      "Pub Title: https://dx.doi.org/10.1016/j.jhep.2022.12.028\n",
      "Keywords: keyword1, keyword2, keyword3\n",
      "SQ_TP: ibd AND acid stress, E.coli AND ibd\n",
      "SQ_FP: acid resistance NOT ibd, E.coli NOT ibd\n",
      "SQ_R: inflammatory AND acid stress, E.coli AND inflammatory\n",
      "\n",
      "================================================================================\n",
      "\n",
      "Pub Title: https://dx.doi.org/10.1016/j.chom.2022.09.011\n",
      "Keywords: \n",
      "SQ_TP: ibd AND acid stress, E.coli AND ibd\n",
      "SQ_FP: cripspr AND ibd NOT microbiome, in vivo screening AND ibd NOT microbiome, mouse AND ibd NOT microbiome\n",
      "SQ_R: inflammatory AND acid stress, E.coli AND inflammatory\n",
      "\n",
      "================================================================================\n",
      "\n",
      "Pub Title: https://dx.doi.org/10.1080/19490976.2022.2107386\n",
      "Keywords: keyword1, keyword2\n",
      "SQ_TP: \n",
      "SQ_FP: Glycolipids AND ibd AND microbiome, a-Gal syndrome  AND ibd AND microbiome, red meat allergy  AND ibd AND microbiome\n",
      "SQ_R: glycolipids AND gastrointestinal, alpha-gal AND gastrointestinal, red meat AND gastrointestinal\n",
      "\n",
      "================================================================================\n",
      "\n"
     ]
    }
   ],
   "source": [
    "for pub_title, data in keywords_dict.items():\n",
    "            print(f\"Pub Title: {data['Pub Title']}\")\n",
    "            print(f\"Keywords: {', '.join(data['Keywords'])}\")\n",
    "            print(f\"SQ_TP: {', '.join(data['SQ_TP'])}\")\n",
    "            print(f\"SQ_FP: {', '.join(data['SQ_FP'])}\")\n",
    "            print(f\"SQ_R: {', '.join(data['SQ_R'])}\")\n",
    "            print(\"\\n\" + \"=\" * 80 + \"\\n\")  # Separator between entries"
   ]
  },
  {
   "attachments": {},
   "cell_type": "markdown",
   "id": "6e644470",
   "metadata": {},
   "source": [
    "### Step 3: Use dictionary with queries as input and fetch PubMED IDs.\n",
    "#### Option 1: This option is more comprehensive since it also saves the used queries in the dictionary."
   ]
  },
  {
   "cell_type": "code",
   "execution_count": 41,
   "id": "019b6e2d-6b6a-4b55-ad1c-a989c83c0e70",
   "metadata": {},
   "outputs": [],
   "source": [
    "\n",
    "def dict_to_pubmed_id(input_dict):\n",
    "    # Initialize a new dictionary to store the results\n",
    "    result_dict = {}\n",
    "\n",
    "    # Iterate over each publication entry in the input dictionary\n",
    "    for pub_title, pub_data in input_dict.items():\n",
    "        # Create a copy of the publication data\n",
    "        pub_result = pub_data.copy()\n",
    "\n",
    "        # Initialize empty lists for PubMed IDs for SQ_TP, SQ_FP, and SQ_R\n",
    "        pub_result['PubMed_IDs_TP'] = []\n",
    "        pub_result['PubMed_IDs_FP'] = []\n",
    "        pub_result['PubMed_IDs_R'] = []\n",
    "\n",
    "        # Extract elements from SQ_TP, SQ_FP, and SQ_R lists and search PubMed for IDs\n",
    "        for sq_tp_element in pub_data['SQ_TP']:\n",
    "            pub_result['PubMed_IDs_TP'].extend(search_pubmed_for_ids(sq_tp_element))\n",
    "\n",
    "        for sq_fp_element in pub_data['SQ_FP']:\n",
    "            pub_result['PubMed_IDs_FP'].extend(search_pubmed_for_ids(sq_fp_element))\n",
    "\n",
    "        for sq_r_element in pub_data['SQ_R']:\n",
    "            pub_result['PubMed_IDs_R'].extend(search_pubmed_for_ids(sq_r_element))\n",
    "\n",
    "        # Add the modified publication data to the result dictionary\n",
    "        result_dict[pub_title] = pub_result\n",
    "\n",
    "    return result_dict\n"
   ]
  },
  {
   "cell_type": "code",
   "execution_count": 42,
   "id": "41137988",
   "metadata": {},
   "outputs": [
    {
     "data": {
      "text/plain": [
       "{'https://dx.doi.org/10.1016/j.jhep.2022.12.028': {'Pub Title': 'https://dx.doi.org/10.1016/j.jhep.2022.12.028',\n",
       "  'Keywords': ['keyword1', 'keyword2', 'keyword3'],\n",
       "  'SQ_TP': ['ibd AND acid stress', 'E.coli AND ibd'],\n",
       "  'SQ_FP': ['acid resistance NOT ibd', 'E.coli NOT ibd'],\n",
       "  'SQ_R': ['inflammatory AND acid stress', 'E.coli AND inflammatory'],\n",
       "  'PubMed_IDs_TP': ['38110964',\n",
       "   '38078699',\n",
       "   '38069446',\n",
       "   '38068850',\n",
       "   '38039189',\n",
       "   '38094217',\n",
       "   '38078655',\n",
       "   '38059748',\n",
       "   '38038481',\n",
       "   '38038385'],\n",
       "  'PubMed_IDs_FP': ['38112098',\n",
       "   '38111913',\n",
       "   '38111646',\n",
       "   '38111637',\n",
       "   '38111307',\n",
       "   '38111791',\n",
       "   '38111644',\n",
       "   '38111640',\n",
       "   '38111598',\n",
       "   '38111572'],\n",
       "  'PubMed_IDs_R': ['38111669',\n",
       "   '38110964',\n",
       "   '38110193',\n",
       "   '38109473',\n",
       "   '38107532',\n",
       "   '38111640',\n",
       "   '38109839',\n",
       "   '38108386',\n",
       "   '38106073',\n",
       "   '38104079']},\n",
       " 'https://dx.doi.org/10.1016/j.chom.2022.09.011': {'Pub Title': 'https://dx.doi.org/10.1016/j.chom.2022.09.011',\n",
       "  'Keywords': [],\n",
       "  'SQ_TP': ['ibd AND acid stress', 'E.coli AND ibd'],\n",
       "  'SQ_FP': ['cripspr AND ibd NOT microbiome',\n",
       "   'in vivo screening AND ibd NOT microbiome',\n",
       "   'mouse AND ibd NOT microbiome'],\n",
       "  'SQ_R': ['inflammatory AND acid stress', 'E.coli AND inflammatory'],\n",
       "  'PubMed_IDs_TP': ['38110964',\n",
       "   '38078699',\n",
       "   '38069446',\n",
       "   '38068850',\n",
       "   '38039189',\n",
       "   '38094217',\n",
       "   '38078655',\n",
       "   '38059748',\n",
       "   '38038481',\n",
       "   '38038385'],\n",
       "  'PubMed_IDs_FP': ['38110791',\n",
       "   '38049007',\n",
       "   '37990349',\n",
       "   '37989058',\n",
       "   '37976806',\n",
       "   '38110964',\n",
       "   '38110791',\n",
       "   '38084411',\n",
       "   '38084103',\n",
       "   '38082993'],\n",
       "  'PubMed_IDs_R': ['38111669',\n",
       "   '38110964',\n",
       "   '38110193',\n",
       "   '38109473',\n",
       "   '38107532',\n",
       "   '38111640',\n",
       "   '38109839',\n",
       "   '38108386',\n",
       "   '38106073',\n",
       "   '38104079']},\n",
       " 'https://dx.doi.org/10.1080/19490976.2022.2107386': {'Pub Title': 'https://dx.doi.org/10.1080/19490976.2022.2107386',\n",
       "  'Keywords': ['keyword1', 'keyword2'],\n",
       "  'SQ_TP': [],\n",
       "  'SQ_FP': ['Glycolipids AND ibd AND microbiome',\n",
       "   'a-Gal syndrome  AND ibd AND microbiome',\n",
       "   'red meat allergy  AND ibd AND microbiome'],\n",
       "  'SQ_R': ['glycolipids AND gastrointestinal',\n",
       "   'alpha-gal AND gastrointestinal',\n",
       "   'red meat AND gastrointestinal'],\n",
       "  'PubMed_IDs_TP': [],\n",
       "  'PubMed_IDs_FP': ['36219554',\n",
       "   '35965094',\n",
       "   '35799795',\n",
       "   '35351615',\n",
       "   '34200555'],\n",
       "  'PubMed_IDs_R': ['37909908',\n",
       "   '37902616',\n",
       "   '37847053',\n",
       "   '37729987',\n",
       "   '37625739',\n",
       "   '37831041',\n",
       "   '37828551',\n",
       "   '37712629',\n",
       "   '37705676',\n",
       "   '37703724',\n",
       "   '38084623',\n",
       "   '37990119',\n",
       "   '37982684',\n",
       "   '37959726',\n",
       "   '37946012']}}"
      ]
     },
     "execution_count": 42,
     "metadata": {},
     "output_type": "execute_result"
    }
   ],
   "source": [
    "dict_to_pubmed_id(keywords_dict)"
   ]
  },
  {
   "attachments": {},
   "cell_type": "markdown",
   "id": "81d7722c",
   "metadata": {},
   "source": [
    "#### Option 2: This one only writes the PubMed id's in the dictionary and not the used queries"
   ]
  },
  {
   "cell_type": "code",
   "execution_count": 43,
   "id": "32a2ac0e",
   "metadata": {},
   "outputs": [],
   "source": [
    "def dict_to_pubmed_id_reduced(input_dict):\n",
    "    # Initialize a new dictionary to store the results\n",
    "    result_dict = {}\n",
    "\n",
    "    # Iterate over each publication entry in the input dictionary\n",
    "    for pub_title, pub_data in input_dict.items():\n",
    "        # Initialize a dictionary to store PubMed IDs and Pub Title\n",
    "        pub_result = {'Pub Title': pub_title}\n",
    "\n",
    "        # Initialize empty lists for PubMed IDs for SQ_TP, SQ_FP, and SQ_R\n",
    "        pub_result['PubMed_IDs_TP'] = []\n",
    "        pub_result['PubMed_IDs_FP'] = []\n",
    "        pub_result['PubMed_IDs_R'] = []\n",
    "\n",
    "        # Extract elements from SQ_TP, SQ_FP, and SQ_R lists and search PubMed for IDs\n",
    "        for sq_tp_element in pub_data['SQ_TP']:\n",
    "            pub_result['PubMed_IDs_TP'].extend(search_pubmed_for_ids(sq_tp_element))\n",
    "\n",
    "        for sq_fp_element in pub_data['SQ_FP']:\n",
    "            pub_result['PubMed_IDs_FP'].extend(search_pubmed_for_ids(sq_fp_element))\n",
    "\n",
    "        for sq_r_element in pub_data['SQ_R']:\n",
    "            pub_result['PubMed_IDs_R'].extend(search_pubmed_for_ids(sq_r_element))\n",
    "\n",
    "        # Add the modified publication data to the result dictionary\n",
    "        result_dict[pub_title] = pub_result\n",
    "\n",
    "    return result_dict\n"
   ]
  },
  {
   "cell_type": "code",
   "execution_count": 44,
   "id": "77fd55c8",
   "metadata": {},
   "outputs": [
    {
     "data": {
      "text/plain": [
       "{'https://dx.doi.org/10.1016/j.jhep.2022.12.028': {'Pub Title': 'https://dx.doi.org/10.1016/j.jhep.2022.12.028',\n",
       "  'PubMed_IDs_TP': ['38110964',\n",
       "   '38078699',\n",
       "   '38069446',\n",
       "   '38068850',\n",
       "   '38039189',\n",
       "   '38094217',\n",
       "   '38078655',\n",
       "   '38059748',\n",
       "   '38038481',\n",
       "   '38038385'],\n",
       "  'PubMed_IDs_FP': ['38112098',\n",
       "   '38111913',\n",
       "   '38111646',\n",
       "   '38111637',\n",
       "   '38111307',\n",
       "   '38111791',\n",
       "   '38111644',\n",
       "   '38111640',\n",
       "   '38111598',\n",
       "   '38111572'],\n",
       "  'PubMed_IDs_R': ['38111669',\n",
       "   '38110964',\n",
       "   '38110193',\n",
       "   '38109473',\n",
       "   '38107532',\n",
       "   '38111640',\n",
       "   '38109839',\n",
       "   '38108386',\n",
       "   '38106073',\n",
       "   '38104079']},\n",
       " 'https://dx.doi.org/10.1016/j.chom.2022.09.011': {'Pub Title': 'https://dx.doi.org/10.1016/j.chom.2022.09.011',\n",
       "  'PubMed_IDs_TP': ['38110964',\n",
       "   '38078699',\n",
       "   '38069446',\n",
       "   '38068850',\n",
       "   '38039189',\n",
       "   '38094217',\n",
       "   '38078655',\n",
       "   '38059748',\n",
       "   '38038481',\n",
       "   '38038385'],\n",
       "  'PubMed_IDs_FP': ['38110791',\n",
       "   '38049007',\n",
       "   '37990349',\n",
       "   '37989058',\n",
       "   '37976806',\n",
       "   '38110964',\n",
       "   '38110791',\n",
       "   '38084411',\n",
       "   '38084103',\n",
       "   '38082993'],\n",
       "  'PubMed_IDs_R': ['38111669',\n",
       "   '38110964',\n",
       "   '38110193',\n",
       "   '38109473',\n",
       "   '38107532',\n",
       "   '38111640',\n",
       "   '38109839',\n",
       "   '38108386',\n",
       "   '38106073',\n",
       "   '38104079']},\n",
       " 'https://dx.doi.org/10.1080/19490976.2022.2107386': {'Pub Title': 'https://dx.doi.org/10.1080/19490976.2022.2107386',\n",
       "  'PubMed_IDs_TP': [],\n",
       "  'PubMed_IDs_FP': ['36219554',\n",
       "   '35965094',\n",
       "   '35799795',\n",
       "   '35351615',\n",
       "   '34200555'],\n",
       "  'PubMed_IDs_R': ['37909908',\n",
       "   '37902616',\n",
       "   '37847053',\n",
       "   '37729987',\n",
       "   '37625739',\n",
       "   '37831041',\n",
       "   '37828551',\n",
       "   '37712629',\n",
       "   '37705676',\n",
       "   '37703724',\n",
       "   '38084623',\n",
       "   '37990119',\n",
       "   '37982684',\n",
       "   '37959726',\n",
       "   '37946012']}}"
      ]
     },
     "execution_count": 44,
     "metadata": {},
     "output_type": "execute_result"
    }
   ],
   "source": [
    "dict_to_pubmed_id_reduced(keywords_dict)"
   ]
  }
 ],
 "metadata": {
  "kernelspec": {
   "display_name": "Python 3",
   "language": "python",
   "name": "python3"
  },
  "language_info": {
   "codemirror_mode": {
    "name": "ipython",
    "version": 3
   },
   "file_extension": ".py",
   "mimetype": "text/x-python",
   "name": "python",
   "nbconvert_exporter": "python",
   "pygments_lexer": "ipython3",
   "version": "3.11.1"
  },
  "vscode": {
   "interpreter": {
    "hash": "aee8b7b246df8f9039afb4144a1f6fd8d2ca17a180786b69acc140d282b71a49"
   }
  }
 },
 "nbformat": 4,
 "nbformat_minor": 5
}
