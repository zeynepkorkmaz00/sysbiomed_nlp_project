{
 "cells": [
  {
   "cell_type": "code",
   "execution_count": null,
   "metadata": {},
   "outputs": [],
   "source": [
    "import xml.etree.ElementTree as ET"
   ]
  },
  {
   "cell_type": "code",
   "execution_count": null,
   "metadata": {},
   "outputs": [],
   "source": [
    "def merge_xml_files(input_files, output_file):\n",
    "    # Create the root element of the merged XML\n",
    "    merged_root = ET.Element(\"root\")\n",
    "\n",
    "    # Iterate over input XML files\n",
    "    for input_file in input_files:\n",
    "        tree = ET.parse(input_file)\n",
    "        root = tree.getroot()\n",
    "\n",
    "        # Append the elements of the input XML to the merged XML\n",
    "        for element in root:\n",
    "            merged_root.append(element)\n",
    "\n",
    "    # Create a new tree with the merged root element\n",
    "    merged_tree = ET.ElementTree(merged_root)\n",
    "\n",
    "    # Write the merged XML to the output file\n",
    "    merged_tree.write(output_file)"
   ]
  }
 ],
 "metadata": {
  "kernelspec": {
   "display_name": "Python 3",
   "language": "python",
   "name": "python3"
  },
  "language_info": {
   "name": "python",
   "version": "3.11.1 (v3.11.1:a7a450f84a, Dec  6 2022, 15:24:06) [Clang 13.0.0 (clang-1300.0.29.30)]"
  },
  "orig_nbformat": 4,
  "vscode": {
   "interpreter": {
    "hash": "aee8b7b246df8f9039afb4144a1f6fd8d2ca17a180786b69acc140d282b71a49"
   }
  }
 },
 "nbformat": 4,
 "nbformat_minor": 2
}
